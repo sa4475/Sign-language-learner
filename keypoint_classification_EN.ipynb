{
 "cells": [
  {
   "cell_type": "code",
   "execution_count": 2,
   "metadata": {},
   "outputs": [
    {
     "name": "stdout",
     "output_type": "stream",
     "text": [
      "^C\n"
     ]
    },
    {
     "name": "stderr",
     "output_type": "stream",
     "text": [
      "WARNING: Ignoring invalid distribution -ywin32 (c:\\users\\zayed\\anaconda3\\lib\\site-packages)\n",
      "WARNING: Ignoring invalid distribution -ywin32 (c:\\users\\zayed\\anaconda3\\lib\\site-packages)\n",
      "WARNING: Ignoring invalid distribution -ywin32 (c:\\users\\zayed\\anaconda3\\lib\\site-packages)\n",
      "    WARNING: Ignoring invalid distribution -ywin32 (c:\\users\\zayed\\anaconda3\\lib\\site-packages)\n",
      "    WARNING: Ignoring invalid distribution -ywin32 (c:\\users\\zayed\\anaconda3\\lib\\site-packages)\n",
      "    WARNING: Ignoring invalid distribution -ywin32 (c:\\users\\zayed\\anaconda3\\lib\\site-packages)\n",
      "    WARNING: Ignoring invalid distribution -ywin32 (c:\\users\\zayed\\anaconda3\\lib\\site-packages)\n",
      "WARNING: Ignoring invalid distribution -ywin32 (c:\\users\\zayed\\anaconda3\\lib\\site-packages)\n",
      "WARNING: Ignoring invalid distribution -ywin32 (c:\\users\\zayed\\anaconda3\\lib\\site-packages)\n",
      "WARNING: Ignoring invalid distribution -ywin32 (c:\\users\\zayed\\anaconda3\\lib\\site-packages)\n",
      "WARNING: Ignoring invalid distribution -ywin32 (c:\\users\\zayed\\anaconda3\\lib\\site-packages)\n",
      "WARNING: Ignoring invalid distribution -ywin32 (c:\\users\\zayed\\anaconda3\\lib\\site-packages)\n",
      "WARNING: Ignoring invalid distribution -ywin32 (c:\\users\\zayed\\anaconda3\\lib\\site-packages)\n",
      "WARNING: Ignoring invalid distribution -ywin32 (c:\\users\\zayed\\anaconda3\\lib\\site-packages)\n",
      "WARNING: Ignoring invalid distribution -ywin32 (c:\\users\\zayed\\anaconda3\\lib\\site-packages)\n"
     ]
    },
    {
     "name": "stdout",
     "output_type": "stream",
     "text": [
      "Collecting tensorflow==2.9.0\n",
      "  Downloading tensorflow-2.9.0-cp38-cp38-win_amd64.whl (444.1 MB)\n",
      "     -------------------------------------- 444.1/444.1 MB 2.8 MB/s eta 0:00:00\n",
      "Requirement already satisfied: google-pasta>=0.1.1 in c:\\users\\zayed\\anaconda3\\lib\\site-packages (from tensorflow==2.9.0) (0.2.0)\n",
      "Requirement already satisfied: packaging in c:\\users\\zayed\\anaconda3\\lib\\site-packages (from tensorflow==2.9.0) (23.0)\n",
      "Requirement already satisfied: opt-einsum>=2.3.2 in c:\\users\\zayed\\anaconda3\\lib\\site-packages (from tensorflow==2.9.0) (3.3.0)\n",
      "Requirement already satisfied: keras-preprocessing>=1.1.1 in c:\\users\\zayed\\anaconda3\\lib\\site-packages (from tensorflow==2.9.0) (1.1.2)\n",
      "Collecting keras<2.10.0,>=2.9.0rc0\n",
      "  Downloading keras-2.9.0-py2.py3-none-any.whl (1.6 MB)\n",
      "     ---------------------------------------- 1.6/1.6 MB 4.5 MB/s eta 0:00:00\n",
      "Requirement already satisfied: h5py>=2.9.0 in c:\\users\\zayed\\anaconda3\\lib\\site-packages (from tensorflow==2.9.0) (2.10.0)\n",
      "Requirement already satisfied: grpcio<2.0,>=1.24.3 in c:\\users\\zayed\\anaconda3\\lib\\site-packages (from tensorflow==2.9.0) (1.50.0)\n",
      "Requirement already satisfied: numpy>=1.20 in c:\\users\\zayed\\anaconda3\\lib\\site-packages (from tensorflow==2.9.0) (1.21.6)\n",
      "Requirement already satisfied: astunparse>=1.6.0 in c:\\users\\zayed\\anaconda3\\lib\\site-packages (from tensorflow==2.9.0) (1.6.3)\n",
      "Requirement already satisfied: typing-extensions>=3.6.6 in c:\\users\\zayed\\anaconda3\\lib\\site-packages (from tensorflow==2.9.0) (4.4.0)\n",
      "Requirement already satisfied: tensorflow-io-gcs-filesystem>=0.23.1 in c:\\users\\zayed\\anaconda3\\lib\\site-packages (from tensorflow==2.9.0) (0.27.0)\n",
      "Requirement already satisfied: protobuf>=3.9.2 in c:\\users\\zayed\\anaconda3\\lib\\site-packages (from tensorflow==2.9.0) (3.19.6)\n",
      "Collecting tensorflow-estimator<2.10.0,>=2.9.0rc0\n",
      "  Downloading tensorflow_estimator-2.9.0-py2.py3-none-any.whl (438 kB)\n",
      "     -------------------------------------- 438.7/438.7 kB 4.6 MB/s eta 0:00:00\n",
      "Requirement already satisfied: gast<=0.4.0,>=0.2.1 in c:\\users\\zayed\\anaconda3\\lib\\site-packages (from tensorflow==2.9.0) (0.4.0)\n",
      "Requirement already satisfied: termcolor>=1.1.0 in c:\\users\\zayed\\anaconda3\\lib\\site-packages (from tensorflow==2.9.0) (2.1.0)\n",
      "Requirement already satisfied: six>=1.12.0 in c:\\users\\zayed\\anaconda3\\lib\\site-packages (from tensorflow==2.9.0) (1.16.0)\n",
      "Collecting tensorboard<2.10,>=2.9\n",
      "  Downloading tensorboard-2.9.1-py3-none-any.whl (5.8 MB)\n",
      "     ---------------------------------------- 5.8/5.8 MB 4.2 MB/s eta 0:00:00\n",
      "Requirement already satisfied: wrapt>=1.11.0 in c:\\users\\zayed\\anaconda3\\lib\\site-packages (from tensorflow==2.9.0) (1.14.1)\n",
      "Requirement already satisfied: libclang>=13.0.0 in c:\\users\\zayed\\anaconda3\\lib\\site-packages (from tensorflow==2.9.0) (14.0.6)\n",
      "Requirement already satisfied: setuptools in c:\\users\\zayed\\anaconda3\\lib\\site-packages (from tensorflow==2.9.0) (65.6.3)\n",
      "Collecting flatbuffers<2,>=1.12\n",
      "  Downloading flatbuffers-1.12-py2.py3-none-any.whl (15 kB)\n",
      "Requirement already satisfied: absl-py>=1.0.0 in c:\\users\\zayed\\anaconda3\\lib\\site-packages (from tensorflow==2.9.0) (1.3.0)\n",
      "Requirement already satisfied: wheel<1.0,>=0.23.0 in c:\\users\\zayed\\anaconda3\\lib\\site-packages (from astunparse>=1.6.0->tensorflow==2.9.0) (0.38.4)\n",
      "Requirement already satisfied: werkzeug>=1.0.1 in c:\\users\\zayed\\anaconda3\\lib\\site-packages (from tensorboard<2.10,>=2.9->tensorflow==2.9.0) (2.0.3)\n",
      "Requirement already satisfied: tensorboard-plugin-wit>=1.6.0 in c:\\users\\zayed\\anaconda3\\lib\\site-packages (from tensorboard<2.10,>=2.9->tensorflow==2.9.0) (1.8.1)\n",
      "Requirement already satisfied: requests<3,>=2.21.0 in c:\\users\\zayed\\anaconda3\\lib\\site-packages (from tensorboard<2.10,>=2.9->tensorflow==2.9.0) (2.28.1)\n",
      "Requirement already satisfied: tensorboard-data-server<0.7.0,>=0.6.0 in c:\\users\\zayed\\anaconda3\\lib\\site-packages (from tensorboard<2.10,>=2.9->tensorflow==2.9.0) (0.6.1)\n",
      "Requirement already satisfied: google-auth<3,>=1.6.3 in c:\\users\\zayed\\anaconda3\\lib\\site-packages (from tensorboard<2.10,>=2.9->tensorflow==2.9.0) (2.17.1)\n",
      "Requirement already satisfied: markdown>=2.6.8 in c:\\users\\zayed\\anaconda3\\lib\\site-packages (from tensorboard<2.10,>=2.9->tensorflow==2.9.0) (3.4.1)\n",
      "Requirement already satisfied: google-auth-oauthlib<0.5,>=0.4.1 in c:\\users\\zayed\\anaconda3\\lib\\site-packages (from tensorboard<2.10,>=2.9->tensorflow==2.9.0) (0.4.6)\n",
      "Requirement already satisfied: rsa<5,>=3.1.4 in c:\\users\\zayed\\anaconda3\\lib\\site-packages (from google-auth<3,>=1.6.3->tensorboard<2.10,>=2.9->tensorflow==2.9.0) (4.9)\n",
      "Requirement already satisfied: cachetools<6.0,>=2.0.0 in c:\\users\\zayed\\anaconda3\\lib\\site-packages (from google-auth<3,>=1.6.3->tensorboard<2.10,>=2.9->tensorflow==2.9.0) (5.2.0)\n",
      "Requirement already satisfied: pyasn1-modules>=0.2.1 in c:\\users\\zayed\\anaconda3\\lib\\site-packages (from google-auth<3,>=1.6.3->tensorboard<2.10,>=2.9->tensorflow==2.9.0) (0.2.8)\n",
      "Requirement already satisfied: requests-oauthlib>=0.7.0 in c:\\users\\zayed\\anaconda3\\lib\\site-packages (from google-auth-oauthlib<0.5,>=0.4.1->tensorboard<2.10,>=2.9->tensorflow==2.9.0) (1.3.1)\n",
      "Requirement already satisfied: importlib-metadata>=4.4 in c:\\users\\zayed\\anaconda3\\lib\\site-packages (from markdown>=2.6.8->tensorboard<2.10,>=2.9->tensorflow==2.9.0) (6.0.0)\n",
      "Requirement already satisfied: urllib3<1.27,>=1.21.1 in c:\\users\\zayed\\anaconda3\\lib\\site-packages (from requests<3,>=2.21.0->tensorboard<2.10,>=2.9->tensorflow==2.9.0) (1.26.15)\n",
      "Requirement already satisfied: charset-normalizer<3,>=2 in c:\\users\\zayed\\anaconda3\\lib\\site-packages (from requests<3,>=2.21.0->tensorboard<2.10,>=2.9->tensorflow==2.9.0) (2.1.1)\n",
      "Requirement already satisfied: certifi>=2017.4.17 in c:\\users\\zayed\\anaconda3\\lib\\site-packages (from requests<3,>=2.21.0->tensorboard<2.10,>=2.9->tensorflow==2.9.0) (2022.12.7)\n",
      "Requirement already satisfied: idna<4,>=2.5 in c:\\users\\zayed\\anaconda3\\lib\\site-packages (from requests<3,>=2.21.0->tensorboard<2.10,>=2.9->tensorflow==2.9.0) (3.4)\n",
      "Requirement already satisfied: zipp>=0.5 in c:\\users\\zayed\\anaconda3\\lib\\site-packages (from importlib-metadata>=4.4->markdown>=2.6.8->tensorboard<2.10,>=2.9->tensorflow==2.9.0) (3.11.0)\n",
      "Requirement already satisfied: pyasn1<0.5.0,>=0.4.6 in c:\\users\\zayed\\anaconda3\\lib\\site-packages (from pyasn1-modules>=0.2.1->google-auth<3,>=1.6.3->tensorboard<2.10,>=2.9->tensorflow==2.9.0) (0.4.8)\n",
      "Requirement already satisfied: oauthlib>=3.0.0 in c:\\users\\zayed\\anaconda3\\lib\\site-packages (from requests-oauthlib>=0.7.0->google-auth-oauthlib<0.5,>=0.4.1->tensorboard<2.10,>=2.9->tensorflow==2.9.0) (3.2.2)\n",
      "Installing collected packages: keras, flatbuffers, tensorflow-estimator, tensorboard, tensorflow\n",
      "  Attempting uninstall: keras\n",
      "    Found existing installation: keras 2.10.0\n",
      "    Uninstalling keras-2.10.0:\n",
      "      Successfully uninstalled keras-2.10.0\n",
      "  Attempting uninstall: flatbuffers\n",
      "    Found existing installation: flatbuffers 22.10.26\n",
      "    Uninstalling flatbuffers-22.10.26:\n",
      "      Successfully uninstalled flatbuffers-22.10.26\n",
      "  Attempting uninstall: tensorflow-estimator\n",
      "    Found existing installation: tensorflow-estimator 2.10.0\n",
      "    Uninstalling tensorflow-estimator-2.10.0:\n",
      "      Successfully uninstalled tensorflow-estimator-2.10.0\n",
      "  Attempting uninstall: tensorboard\n",
      "    Found existing installation: tensorboard 2.10.1\n",
      "    Uninstalling tensorboard-2.10.1:\n",
      "      Successfully uninstalled tensorboard-2.10.1\n",
      "Successfully installed flatbuffers-1.12 keras-2.9.0 tensorboard-2.9.1 tensorflow-2.9.0 tensorflow-estimator-2.9.0\n"
     ]
    }
   ],
   "source": [
    "!pip install tensorflow==2.9.0"
   ]
  },
  {
   "cell_type": "code",
   "execution_count": 3,
   "metadata": {
    "id": "igMyGnjE9hEp"
   },
   "outputs": [
    {
     "name": "stdout",
     "output_type": "stream",
     "text": [
      "2.9.0\n"
     ]
    }
   ],
   "source": [
    "import csv\n",
    "\n",
    "import numpy as np\n",
    "import tensorflow as tf\n",
    "from sklearn.model_selection import train_test_split\n",
    "\n",
    "print(tf. __version__)\n",
    "\n",
    "\n",
    "RANDOM_SEED = 42"
   ]
  },
  {
   "cell_type": "markdown",
   "metadata": {
    "id": "t2HDvhIu9hEr"
   },
   "source": [
    "# Specify each path"
   ]
  },
  {
   "cell_type": "code",
   "execution_count": 4,
   "metadata": {
    "id": "9NvZP2Zn9hEy"
   },
   "outputs": [],
   "source": [
    "dataset = 'model/keypoint_classifier/keypoint.csv'\n",
    "model_save_path = 'model/keypoint_classifier/keypoint_classifier.hdf5'\n",
    "tflite_save_path = 'model/keypoint_classifier/keypoint_classifier.tflite'\n",
    "tfjs_save_path = 'model/keypoint_classifier/tfjs_model'"
   ]
  },
  {
   "cell_type": "markdown",
   "metadata": {
    "id": "s5oMH7x19hEz"
   },
   "source": [
    "# Set number of classes"
   ]
  },
  {
   "cell_type": "code",
   "execution_count": 5,
   "metadata": {
    "id": "du4kodXL9hEz"
   },
   "outputs": [],
   "source": [
    "NUM_CLASSES = 5"
   ]
  },
  {
   "cell_type": "markdown",
   "metadata": {
    "id": "XjnL0uso9hEz"
   },
   "source": [
    "# Dataset reading"
   ]
  },
  {
   "cell_type": "code",
   "execution_count": 6,
   "metadata": {
    "id": "QT5ZqtEz9hE0"
   },
   "outputs": [],
   "source": [
    "X_dataset = np.loadtxt(dataset, delimiter=',', dtype='float32', usecols=list(range(1, (21 * 2) + 1)))"
   ]
  },
  {
   "cell_type": "code",
   "execution_count": 7,
   "metadata": {
    "id": "QmoKFsp49hE0"
   },
   "outputs": [],
   "source": [
    "y_dataset = np.loadtxt(dataset, delimiter=',', dtype='int32', usecols=(0))"
   ]
  },
  {
   "cell_type": "code",
   "execution_count": 8,
   "metadata": {
    "id": "xQU7JTZ_9hE0"
   },
   "outputs": [],
   "source": [
    "X_train, X_test, y_train, y_test = train_test_split(X_dataset, y_dataset, train_size=0.75, random_state=RANDOM_SEED)"
   ]
  },
  {
   "cell_type": "markdown",
   "metadata": {
    "id": "mxK_lETT9hE0"
   },
   "source": [
    "# Model building"
   ]
  },
  {
   "cell_type": "code",
   "execution_count": 9,
   "metadata": {
    "id": "vHBmUf1t9hE1"
   },
   "outputs": [],
   "source": [
    "model = tf.keras.models.Sequential([\n",
    "    tf.keras.layers.Input((21 * 2, )),\n",
    "    tf.keras.layers.Dropout(0.2),\n",
    "    tf.keras.layers.Dense(20, activation='relu'),\n",
    "    tf.keras.layers.Dropout(0.4),\n",
    "    tf.keras.layers.Dense(10, activation='relu'),\n",
    "    tf.keras.layers.Dense(NUM_CLASSES, activation='softmax')\n",
    "])"
   ]
  },
  {
   "cell_type": "code",
   "execution_count": 10,
   "metadata": {
    "colab": {
     "base_uri": "https://localhost:8080/"
    },
    "id": "ypqky9tc9hE1",
    "outputId": "5db082bb-30e3-4110-bf63-a1ee777ecd46"
   },
   "outputs": [
    {
     "name": "stdout",
     "output_type": "stream",
     "text": [
      "Model: \"sequential\"\n",
      "_________________________________________________________________\n",
      " Layer (type)                Output Shape              Param #   \n",
      "=================================================================\n",
      " dropout (Dropout)           (None, 42)                0         \n",
      "                                                                 \n",
      " dense (Dense)               (None, 20)                860       \n",
      "                                                                 \n",
      " dropout_1 (Dropout)         (None, 20)                0         \n",
      "                                                                 \n",
      " dense_1 (Dense)             (None, 10)                210       \n",
      "                                                                 \n",
      " dense_2 (Dense)             (None, 5)                 55        \n",
      "                                                                 \n",
      "=================================================================\n",
      "Total params: 1,125\n",
      "Trainable params: 1,125\n",
      "Non-trainable params: 0\n",
      "_________________________________________________________________\n"
     ]
    }
   ],
   "source": [
    "model.summary()  # tf.keras.utils.plot_model(model, show_shapes=True)"
   ]
  },
  {
   "cell_type": "code",
   "execution_count": 11,
   "metadata": {
    "id": "MbMjOflQ9hE1"
   },
   "outputs": [],
   "source": [
    "# Model checkpoint callback\n",
    "cp_callback = tf.keras.callbacks.ModelCheckpoint(\n",
    "    model_save_path, verbose=1, save_weights_only=False)\n",
    "# Callback for early stopping\n",
    "es_callback = tf.keras.callbacks.EarlyStopping(patience=20, verbose=1)"
   ]
  },
  {
   "cell_type": "code",
   "execution_count": 12,
   "metadata": {
    "id": "c3Dac0M_9hE2"
   },
   "outputs": [],
   "source": [
    "# Model compilation\n",
    "model.compile(\n",
    "    optimizer='adam',\n",
    "    loss='sparse_categorical_crossentropy',\n",
    "    metrics=['accuracy']\n",
    ")"
   ]
  },
  {
   "cell_type": "markdown",
   "metadata": {
    "id": "7XI0j1Iu9hE2"
   },
   "source": [
    "# Model training"
   ]
  },
  {
   "cell_type": "code",
   "execution_count": 13,
   "metadata": {
    "colab": {
     "base_uri": "https://localhost:8080/"
    },
    "id": "WirBl-JE9hE3",
    "outputId": "71b30ca2-8294-4d9d-8aa2-800d90d399de",
    "scrolled": true
   },
   "outputs": [
    {
     "name": "stdout",
     "output_type": "stream",
     "text": [
      "Epoch 1/1000\n",
      "24/30 [=======================>......] - ETA: 0s - loss: 1.5810 - accuracy: 0.2728 \n",
      "Epoch 1: saving model to model/keypoint_classifier\\keypoint_classifier.hdf5\n",
      "30/30 [==============================] - 1s 20ms/step - loss: 1.5611 - accuracy: 0.2969 - val_loss: 1.4033 - val_accuracy: 0.4552\n",
      "Epoch 2/1000\n",
      "23/30 [======================>.......] - ETA: 0s - loss: 1.4012 - accuracy: 0.4361\n",
      "Epoch 2: saving model to model/keypoint_classifier\\keypoint_classifier.hdf5\n",
      "30/30 [==============================] - 0s 5ms/step - loss: 1.3897 - accuracy: 0.4417 - val_loss: 1.2512 - val_accuracy: 0.5210\n",
      "Epoch 3/1000\n",
      "25/30 [========================>.....] - ETA: 0s - loss: 1.2789 - accuracy: 0.4872\n",
      "Epoch 3: saving model to model/keypoint_classifier\\keypoint_classifier.hdf5\n",
      "30/30 [==============================] - 0s 4ms/step - loss: 1.2737 - accuracy: 0.4911 - val_loss: 1.1047 - val_accuracy: 0.5535\n",
      "Epoch 4/1000\n",
      "26/30 [=========================>....] - ETA: 0s - loss: 1.1670 - accuracy: 0.5246\n",
      "Epoch 4: saving model to model/keypoint_classifier\\keypoint_classifier.hdf5\n",
      "30/30 [==============================] - 0s 4ms/step - loss: 1.1601 - accuracy: 0.5295 - val_loss: 0.9614 - val_accuracy: 0.6971\n",
      "Epoch 5/1000\n",
      " 1/30 [>.............................] - ETA: 0s - loss: 1.2138 - accuracy: 0.5078\n",
      "Epoch 5: saving model to model/keypoint_classifier\\keypoint_classifier.hdf5\n",
      "30/30 [==============================] - 0s 4ms/step - loss: 1.0589 - accuracy: 0.5786 - val_loss: 0.8268 - val_accuracy: 0.7375\n",
      "Epoch 6/1000\n",
      "26/30 [=========================>....] - ETA: 0s - loss: 0.9379 - accuracy: 0.6301\n",
      "Epoch 6: saving model to model/keypoint_classifier\\keypoint_classifier.hdf5\n",
      "30/30 [==============================] - 0s 4ms/step - loss: 0.9400 - accuracy: 0.6286 - val_loss: 0.6896 - val_accuracy: 0.8271\n",
      "Epoch 7/1000\n",
      "21/30 [====================>.........] - ETA: 0s - loss: 0.8341 - accuracy: 0.6856\n",
      "Epoch 7: saving model to model/keypoint_classifier\\keypoint_classifier.hdf5\n",
      "30/30 [==============================] - 0s 4ms/step - loss: 0.8219 - accuracy: 0.6915 - val_loss: 0.5698 - val_accuracy: 0.8914\n",
      "Epoch 8/1000\n",
      " 1/30 [>.............................] - ETA: 0s - loss: 0.7897 - accuracy: 0.6875\n",
      "Epoch 8: saving model to model/keypoint_classifier\\keypoint_classifier.hdf5\n",
      "30/30 [==============================] - 0s 4ms/step - loss: 0.7495 - accuracy: 0.7179 - val_loss: 0.4682 - val_accuracy: 0.9516\n",
      "Epoch 9/1000\n",
      "30/30 [==============================] - ETA: 0s - loss: 0.6593 - accuracy: 0.7505\n",
      "Epoch 9: saving model to model/keypoint_classifier\\keypoint_classifier.hdf5\n",
      "30/30 [==============================] - 0s 4ms/step - loss: 0.6593 - accuracy: 0.7505 - val_loss: 0.3817 - val_accuracy: 0.9699\n",
      "Epoch 10/1000\n",
      "26/30 [=========================>....] - ETA: 0s - loss: 0.6209 - accuracy: 0.7704\n",
      "Epoch 10: saving model to model/keypoint_classifier\\keypoint_classifier.hdf5\n",
      "30/30 [==============================] - 0s 5ms/step - loss: 0.6135 - accuracy: 0.7732 - val_loss: 0.3163 - val_accuracy: 0.9833\n",
      "Epoch 11/1000\n",
      "22/30 [=====================>........] - ETA: 0s - loss: 0.5722 - accuracy: 0.7915\n",
      "Epoch 11: saving model to model/keypoint_classifier\\keypoint_classifier.hdf5\n",
      "30/30 [==============================] - 0s 5ms/step - loss: 0.5686 - accuracy: 0.7962 - val_loss: 0.2676 - val_accuracy: 0.9865\n",
      "Epoch 12/1000\n",
      "24/30 [=======================>......] - ETA: 0s - loss: 0.5021 - accuracy: 0.8184\n",
      "Epoch 12: saving model to model/keypoint_classifier\\keypoint_classifier.hdf5\n",
      "30/30 [==============================] - 0s 4ms/step - loss: 0.5058 - accuracy: 0.8160 - val_loss: 0.2285 - val_accuracy: 0.9881\n",
      "Epoch 13/1000\n",
      "21/30 [====================>.........] - ETA: 0s - loss: 0.4795 - accuracy: 0.8199\n",
      "Epoch 13: saving model to model/keypoint_classifier\\keypoint_classifier.hdf5\n",
      "30/30 [==============================] - 0s 5ms/step - loss: 0.4818 - accuracy: 0.8192 - val_loss: 0.2000 - val_accuracy: 0.9897\n",
      "Epoch 14/1000\n",
      "29/30 [============================>.] - ETA: 0s - loss: 0.4580 - accuracy: 0.8335\n",
      "Epoch 14: saving model to model/keypoint_classifier\\keypoint_classifier.hdf5\n",
      "30/30 [==============================] - 0s 4ms/step - loss: 0.4589 - accuracy: 0.8332 - val_loss: 0.1759 - val_accuracy: 0.9889\n",
      "Epoch 15/1000\n",
      "21/30 [====================>.........] - ETA: 0s - loss: 0.4278 - accuracy: 0.8426\n",
      "Epoch 15: saving model to model/keypoint_classifier\\keypoint_classifier.hdf5\n",
      "30/30 [==============================] - 0s 5ms/step - loss: 0.4291 - accuracy: 0.8419 - val_loss: 0.1570 - val_accuracy: 0.9921\n",
      "Epoch 16/1000\n",
      "29/30 [============================>.] - ETA: 0s - loss: 0.4428 - accuracy: 0.8373\n",
      "Epoch 16: saving model to model/keypoint_classifier\\keypoint_classifier.hdf5\n",
      "30/30 [==============================] - 0s 4ms/step - loss: 0.4406 - accuracy: 0.8385 - val_loss: 0.1459 - val_accuracy: 0.9921\n",
      "Epoch 17/1000\n",
      "27/30 [==========================>...] - ETA: 0s - loss: 0.3957 - accuracy: 0.8521\n",
      "Epoch 17: saving model to model/keypoint_classifier\\keypoint_classifier.hdf5\n",
      "30/30 [==============================] - 0s 4ms/step - loss: 0.4018 - accuracy: 0.8512 - val_loss: 0.1328 - val_accuracy: 0.9929\n",
      "Epoch 18/1000\n",
      "29/30 [============================>.] - ETA: 0s - loss: 0.3902 - accuracy: 0.8680\n",
      "Epoch 18: saving model to model/keypoint_classifier\\keypoint_classifier.hdf5\n",
      "30/30 [==============================] - 0s 4ms/step - loss: 0.3892 - accuracy: 0.8676 - val_loss: 0.1214 - val_accuracy: 0.9952\n",
      "Epoch 19/1000\n",
      "27/30 [==========================>...] - ETA: 0s - loss: 0.3696 - accuracy: 0.8698\n",
      "Epoch 19: saving model to model/keypoint_classifier\\keypoint_classifier.hdf5\n",
      "30/30 [==============================] - 0s 4ms/step - loss: 0.3718 - accuracy: 0.8697 - val_loss: 0.1107 - val_accuracy: 0.9944\n",
      "Epoch 20/1000\n",
      " 1/30 [>.............................] - ETA: 0s - loss: 0.3243 - accuracy: 0.8906\n",
      "Epoch 20: saving model to model/keypoint_classifier\\keypoint_classifier.hdf5\n",
      "30/30 [==============================] - 0s 3ms/step - loss: 0.3488 - accuracy: 0.8789 - val_loss: 0.0986 - val_accuracy: 0.9952\n",
      "Epoch 21/1000\n",
      " 1/30 [>.............................] - ETA: 0s - loss: 0.3762 - accuracy: 0.8359\n",
      "Epoch 21: saving model to model/keypoint_classifier\\keypoint_classifier.hdf5\n",
      "30/30 [==============================] - 0s 3ms/step - loss: 0.3341 - accuracy: 0.8855 - val_loss: 0.0920 - val_accuracy: 0.9944\n",
      "Epoch 22/1000\n",
      " 1/30 [>.............................] - ETA: 0s - loss: 0.4271 - accuracy: 0.8438\n",
      "Epoch 22: saving model to model/keypoint_classifier\\keypoint_classifier.hdf5\n",
      "30/30 [==============================] - 0s 3ms/step - loss: 0.3556 - accuracy: 0.8747 - val_loss: 0.0848 - val_accuracy: 0.9952\n",
      "Epoch 23/1000\n",
      " 1/30 [>.............................] - ETA: 0s - loss: 0.3993 - accuracy: 0.8594\n",
      "Epoch 23: saving model to model/keypoint_classifier\\keypoint_classifier.hdf5\n",
      "30/30 [==============================] - 0s 4ms/step - loss: 0.3453 - accuracy: 0.8747 - val_loss: 0.0810 - val_accuracy: 0.9960\n",
      "Epoch 24/1000\n",
      " 1/30 [>.............................] - ETA: 0s - loss: 0.3676 - accuracy: 0.8750\n",
      "Epoch 24: saving model to model/keypoint_classifier\\keypoint_classifier.hdf5\n",
      "30/30 [==============================] - 0s 4ms/step - loss: 0.3326 - accuracy: 0.8866 - val_loss: 0.0791 - val_accuracy: 0.9952\n",
      "Epoch 25/1000\n",
      "29/30 [============================>.] - ETA: 0s - loss: 0.3196 - accuracy: 0.8898\n",
      "Epoch 25: saving model to model/keypoint_classifier\\keypoint_classifier.hdf5\n",
      "30/30 [==============================] - 0s 4ms/step - loss: 0.3196 - accuracy: 0.8906 - val_loss: 0.0712 - val_accuracy: 0.9968\n",
      "Epoch 26/1000\n",
      " 1/30 [>.............................] - ETA: 0s - loss: 0.2550 - accuracy: 0.9141\n",
      "Epoch 26: saving model to model/keypoint_classifier\\keypoint_classifier.hdf5\n",
      "30/30 [==============================] - 0s 4ms/step - loss: 0.3058 - accuracy: 0.8871 - val_loss: 0.0674 - val_accuracy: 0.9952\n",
      "Epoch 27/1000\n",
      "30/30 [==============================] - ETA: 0s - loss: 0.3165 - accuracy: 0.8887\n",
      "Epoch 27: saving model to model/keypoint_classifier\\keypoint_classifier.hdf5\n",
      "30/30 [==============================] - 0s 4ms/step - loss: 0.3165 - accuracy: 0.8887 - val_loss: 0.0697 - val_accuracy: 0.9960\n",
      "Epoch 28/1000\n",
      " 1/30 [>.............................] - ETA: 0s - loss: 0.3349 - accuracy: 0.8828\n",
      "Epoch 28: saving model to model/keypoint_classifier\\keypoint_classifier.hdf5\n",
      "30/30 [==============================] - 0s 3ms/step - loss: 0.3059 - accuracy: 0.8877 - val_loss: 0.0665 - val_accuracy: 0.9960\n",
      "Epoch 29/1000\n",
      "16/30 [===============>..............] - ETA: 0s - loss: 0.2868 - accuracy: 0.9014\n",
      "Epoch 29: saving model to model/keypoint_classifier\\keypoint_classifier.hdf5\n",
      "30/30 [==============================] - 0s 4ms/step - loss: 0.2902 - accuracy: 0.8998 - val_loss: 0.0605 - val_accuracy: 0.9960\n",
      "Epoch 30/1000\n",
      " 1/30 [>.............................] - ETA: 0s - loss: 0.2399 - accuracy: 0.9219\n",
      "Epoch 30: saving model to model/keypoint_classifier\\keypoint_classifier.hdf5\n",
      "30/30 [==============================] - 0s 3ms/step - loss: 0.2924 - accuracy: 0.8985 - val_loss: 0.0586 - val_accuracy: 0.9960\n",
      "Epoch 31/1000\n",
      "28/30 [===========================>..] - ETA: 0s - loss: 0.2858 - accuracy: 0.8979\n",
      "Epoch 31: saving model to model/keypoint_classifier\\keypoint_classifier.hdf5\n",
      "30/30 [==============================] - 0s 4ms/step - loss: 0.2846 - accuracy: 0.8988 - val_loss: 0.0551 - val_accuracy: 0.9968\n",
      "Epoch 32/1000\n",
      "26/30 [=========================>....] - ETA: 0s - loss: 0.2842 - accuracy: 0.8963\n",
      "Epoch 32: saving model to model/keypoint_classifier\\keypoint_classifier.hdf5\n",
      "30/30 [==============================] - 0s 4ms/step - loss: 0.2861 - accuracy: 0.8956 - val_loss: 0.0548 - val_accuracy: 0.9960\n",
      "Epoch 33/1000\n",
      "29/30 [============================>.] - ETA: 0s - loss: 0.2772 - accuracy: 0.9017\n",
      "Epoch 33: saving model to model/keypoint_classifier\\keypoint_classifier.hdf5\n",
      "30/30 [==============================] - 0s 4ms/step - loss: 0.2773 - accuracy: 0.9017 - val_loss: 0.0502 - val_accuracy: 0.9960\n",
      "Epoch 34/1000\n",
      "30/30 [==============================] - ETA: 0s - loss: 0.2912 - accuracy: 0.8921\n",
      "Epoch 34: saving model to model/keypoint_classifier\\keypoint_classifier.hdf5\n",
      "30/30 [==============================] - 0s 3ms/step - loss: 0.2912 - accuracy: 0.8921 - val_loss: 0.0475 - val_accuracy: 0.9960\n",
      "Epoch 35/1000\n",
      " 1/30 [>.............................] - ETA: 0s - loss: 0.2520 - accuracy: 0.9453\n",
      "Epoch 35: saving model to model/keypoint_classifier\\keypoint_classifier.hdf5\n",
      "30/30 [==============================] - 0s 3ms/step - loss: 0.2660 - accuracy: 0.9125 - val_loss: 0.0468 - val_accuracy: 0.9960\n",
      "Epoch 36/1000\n",
      " 1/30 [>.............................] - ETA: 0s - loss: 0.2528 - accuracy: 0.9062\n",
      "Epoch 36: saving model to model/keypoint_classifier\\keypoint_classifier.hdf5\n",
      "30/30 [==============================] - 0s 3ms/step - loss: 0.2581 - accuracy: 0.9085 - val_loss: 0.0459 - val_accuracy: 0.9960\n",
      "Epoch 37/1000\n",
      "28/30 [===========================>..] - ETA: 0s - loss: 0.2600 - accuracy: 0.9090\n",
      "Epoch 37: saving model to model/keypoint_classifier\\keypoint_classifier.hdf5\n",
      "30/30 [==============================] - 0s 4ms/step - loss: 0.2639 - accuracy: 0.9072 - val_loss: 0.0432 - val_accuracy: 0.9960\n",
      "Epoch 38/1000\n",
      "30/30 [==============================] - ETA: 0s - loss: 0.2793 - accuracy: 0.9017\n",
      "Epoch 38: saving model to model/keypoint_classifier\\keypoint_classifier.hdf5\n",
      "30/30 [==============================] - 0s 4ms/step - loss: 0.2793 - accuracy: 0.9017 - val_loss: 0.0441 - val_accuracy: 0.9960\n",
      "Epoch 39/1000\n",
      "17/30 [================>.............] - ETA: 0s - loss: 0.2608 - accuracy: 0.9053\n",
      "Epoch 39: saving model to model/keypoint_classifier\\keypoint_classifier.hdf5\n",
      "30/30 [==============================] - 0s 4ms/step - loss: 0.2609 - accuracy: 0.9070 - val_loss: 0.0429 - val_accuracy: 0.9968\n",
      "Epoch 40/1000\n",
      " 1/30 [>.............................] - ETA: 0s - loss: 0.2378 - accuracy: 0.9062\n",
      "Epoch 40: saving model to model/keypoint_classifier\\keypoint_classifier.hdf5\n",
      "30/30 [==============================] - 0s 3ms/step - loss: 0.2581 - accuracy: 0.9054 - val_loss: 0.0420 - val_accuracy: 0.9960\n",
      "Epoch 41/1000\n",
      "28/30 [===========================>..] - ETA: 0s - loss: 0.2603 - accuracy: 0.9051\n",
      "Epoch 41: saving model to model/keypoint_classifier\\keypoint_classifier.hdf5\n",
      "30/30 [==============================] - 0s 4ms/step - loss: 0.2601 - accuracy: 0.9056 - val_loss: 0.0413 - val_accuracy: 0.9968\n",
      "Epoch 42/1000\n",
      " 1/30 [>.............................] - ETA: 0s - loss: 0.3410 - accuracy: 0.9297\n",
      "Epoch 42: saving model to model/keypoint_classifier\\keypoint_classifier.hdf5\n",
      "30/30 [==============================] - 0s 3ms/step - loss: 0.2522 - accuracy: 0.9083 - val_loss: 0.0396 - val_accuracy: 0.9968\n",
      "Epoch 43/1000\n",
      " 1/30 [>.............................] - ETA: 0s - loss: 0.2545 - accuracy: 0.8906\n",
      "Epoch 43: saving model to model/keypoint_classifier\\keypoint_classifier.hdf5\n",
      "30/30 [==============================] - 0s 3ms/step - loss: 0.2573 - accuracy: 0.9067 - val_loss: 0.0399 - val_accuracy: 0.9968\n",
      "Epoch 44/1000\n",
      " 1/30 [>.............................] - ETA: 0s - loss: 0.1812 - accuracy: 0.9375\n",
      "Epoch 44: saving model to model/keypoint_classifier\\keypoint_classifier.hdf5\n",
      "30/30 [==============================] - 0s 3ms/step - loss: 0.2547 - accuracy: 0.9080 - val_loss: 0.0393 - val_accuracy: 0.9968\n",
      "Epoch 45/1000\n",
      " 1/30 [>.............................] - ETA: 0s - loss: 0.2507 - accuracy: 0.9219\n",
      "Epoch 45: saving model to model/keypoint_classifier\\keypoint_classifier.hdf5\n",
      "30/30 [==============================] - 0s 3ms/step - loss: 0.2488 - accuracy: 0.9125 - val_loss: 0.0375 - val_accuracy: 0.9968\n",
      "Epoch 46/1000\n",
      " 1/30 [>.............................] - ETA: 0s - loss: 0.1778 - accuracy: 0.9531\n",
      "Epoch 46: saving model to model/keypoint_classifier\\keypoint_classifier.hdf5\n",
      "30/30 [==============================] - 0s 3ms/step - loss: 0.2429 - accuracy: 0.9178 - val_loss: 0.0345 - val_accuracy: 0.9968\n",
      "Epoch 47/1000\n",
      " 1/30 [>.............................] - ETA: 0s - loss: 0.1798 - accuracy: 0.9375\n",
      "Epoch 47: saving model to model/keypoint_classifier\\keypoint_classifier.hdf5\n",
      "30/30 [==============================] - 0s 3ms/step - loss: 0.2476 - accuracy: 0.9096 - val_loss: 0.0337 - val_accuracy: 0.9960\n",
      "Epoch 48/1000\n",
      " 1/30 [>.............................] - ETA: 0s - loss: 0.2539 - accuracy: 0.8906\n",
      "Epoch 48: saving model to model/keypoint_classifier\\keypoint_classifier.hdf5\n",
      "30/30 [==============================] - 0s 3ms/step - loss: 0.2376 - accuracy: 0.9151 - val_loss: 0.0343 - val_accuracy: 0.9968\n",
      "Epoch 49/1000\n",
      " 1/30 [>.............................] - ETA: 0s - loss: 0.3196 - accuracy: 0.9297\n",
      "Epoch 49: saving model to model/keypoint_classifier\\keypoint_classifier.hdf5\n",
      "30/30 [==============================] - 0s 3ms/step - loss: 0.2400 - accuracy: 0.9120 - val_loss: 0.0350 - val_accuracy: 0.9968\n",
      "Epoch 50/1000\n",
      " 1/30 [>.............................] - ETA: 0s - loss: 0.3918 - accuracy: 0.8516\n",
      "Epoch 50: saving model to model/keypoint_classifier\\keypoint_classifier.hdf5\n",
      "30/30 [==============================] - 0s 3ms/step - loss: 0.2635 - accuracy: 0.9017 - val_loss: 0.0328 - val_accuracy: 0.9960\n",
      "Epoch 51/1000\n",
      "28/30 [===========================>..] - ETA: 0s - loss: 0.2475 - accuracy: 0.9132\n",
      "Epoch 51: saving model to model/keypoint_classifier\\keypoint_classifier.hdf5\n",
      "30/30 [==============================] - 0s 4ms/step - loss: 0.2464 - accuracy: 0.9136 - val_loss: 0.0328 - val_accuracy: 0.9968\n",
      "Epoch 52/1000\n",
      " 1/30 [>.............................] - ETA: 0s - loss: 0.1591 - accuracy: 0.9453\n",
      "Epoch 52: saving model to model/keypoint_classifier\\keypoint_classifier.hdf5\n",
      "30/30 [==============================] - 0s 3ms/step - loss: 0.2354 - accuracy: 0.9159 - val_loss: 0.0315 - val_accuracy: 0.9968\n",
      "Epoch 53/1000\n",
      " 1/30 [>.............................] - ETA: 0s - loss: 0.3321 - accuracy: 0.8672\n",
      "Epoch 53: saving model to model/keypoint_classifier\\keypoint_classifier.hdf5\n",
      "30/30 [==============================] - 0s 3ms/step - loss: 0.2568 - accuracy: 0.9075 - val_loss: 0.0316 - val_accuracy: 0.9968\n",
      "Epoch 54/1000\n",
      "17/30 [================>.............] - ETA: 0s - loss: 0.2297 - accuracy: 0.9168\n",
      "Epoch 54: saving model to model/keypoint_classifier\\keypoint_classifier.hdf5\n",
      "30/30 [==============================] - 0s 5ms/step - loss: 0.2355 - accuracy: 0.9144 - val_loss: 0.0309 - val_accuracy: 0.9968\n",
      "Epoch 55/1000\n",
      " 1/30 [>.............................] - ETA: 0s - loss: 0.2892 - accuracy: 0.9062\n",
      "Epoch 55: saving model to model/keypoint_classifier\\keypoint_classifier.hdf5\n",
      "30/30 [==============================] - 0s 3ms/step - loss: 0.2326 - accuracy: 0.9154 - val_loss: 0.0306 - val_accuracy: 0.9960\n",
      "Epoch 56/1000\n",
      " 1/30 [>.............................] - ETA: 0s - loss: 0.2349 - accuracy: 0.8906\n",
      "Epoch 56: saving model to model/keypoint_classifier\\keypoint_classifier.hdf5\n",
      "30/30 [==============================] - 0s 3ms/step - loss: 0.2345 - accuracy: 0.9183 - val_loss: 0.0298 - val_accuracy: 0.9968\n",
      "Epoch 57/1000\n",
      " 1/30 [>.............................] - ETA: 0s - loss: 0.2284 - accuracy: 0.9297\n",
      "Epoch 57: saving model to model/keypoint_classifier\\keypoint_classifier.hdf5\n",
      "30/30 [==============================] - 0s 3ms/step - loss: 0.2245 - accuracy: 0.9223 - val_loss: 0.0288 - val_accuracy: 0.9968\n",
      "Epoch 58/1000\n",
      " 1/30 [>.............................] - ETA: 0s - loss: 0.3171 - accuracy: 0.9219\n",
      "Epoch 58: saving model to model/keypoint_classifier\\keypoint_classifier.hdf5\n",
      "30/30 [==============================] - 0s 3ms/step - loss: 0.2212 - accuracy: 0.9210 - val_loss: 0.0299 - val_accuracy: 0.9960\n",
      "Epoch 59/1000\n",
      "29/30 [============================>.] - ETA: 0s - loss: 0.2177 - accuracy: 0.9230\n",
      "Epoch 59: saving model to model/keypoint_classifier\\keypoint_classifier.hdf5\n",
      "30/30 [==============================] - 0s 4ms/step - loss: 0.2175 - accuracy: 0.9233 - val_loss: 0.0273 - val_accuracy: 0.9960\n",
      "Epoch 60/1000\n",
      "22/30 [=====================>........] - ETA: 0s - loss: 0.2297 - accuracy: 0.9112\n",
      "Epoch 60: saving model to model/keypoint_classifier\\keypoint_classifier.hdf5\n",
      "30/30 [==============================] - 0s 4ms/step - loss: 0.2215 - accuracy: 0.9149 - val_loss: 0.0269 - val_accuracy: 0.9968\n",
      "Epoch 61/1000\n",
      " 1/30 [>.............................] - ETA: 0s - loss: 0.2334 - accuracy: 0.9297\n",
      "Epoch 61: saving model to model/keypoint_classifier\\keypoint_classifier.hdf5\n",
      "30/30 [==============================] - 0s 3ms/step - loss: 0.2212 - accuracy: 0.9215 - val_loss: 0.0286 - val_accuracy: 0.9968\n",
      "Epoch 62/1000\n",
      " 1/30 [>.............................] - ETA: 0s - loss: 0.3436 - accuracy: 0.8828\n",
      "Epoch 62: saving model to model/keypoint_classifier\\keypoint_classifier.hdf5\n",
      "30/30 [==============================] - 0s 3ms/step - loss: 0.2343 - accuracy: 0.9175 - val_loss: 0.0281 - val_accuracy: 0.9952\n",
      "Epoch 63/1000\n",
      " 1/30 [>.............................] - ETA: 0s - loss: 0.1698 - accuracy: 0.9453\n",
      "Epoch 63: saving model to model/keypoint_classifier\\keypoint_classifier.hdf5\n",
      "30/30 [==============================] - 0s 3ms/step - loss: 0.2226 - accuracy: 0.9188 - val_loss: 0.0270 - val_accuracy: 0.9960\n",
      "Epoch 64/1000\n",
      " 1/30 [>.............................] - ETA: 0s - loss: 0.1920 - accuracy: 0.9297\n",
      "Epoch 64: saving model to model/keypoint_classifier\\keypoint_classifier.hdf5\n",
      "30/30 [==============================] - 0s 3ms/step - loss: 0.2066 - accuracy: 0.9289 - val_loss: 0.0261 - val_accuracy: 0.9960\n",
      "Epoch 65/1000\n",
      " 1/30 [>.............................] - ETA: 0s - loss: 0.1995 - accuracy: 0.9141\n",
      "Epoch 65: saving model to model/keypoint_classifier\\keypoint_classifier.hdf5\n",
      "30/30 [==============================] - 0s 3ms/step - loss: 0.2283 - accuracy: 0.9247 - val_loss: 0.0262 - val_accuracy: 0.9968\n",
      "Epoch 66/1000\n",
      " 1/30 [>.............................] - ETA: 0s - loss: 0.2013 - accuracy: 0.9609\n",
      "Epoch 66: saving model to model/keypoint_classifier\\keypoint_classifier.hdf5\n",
      "30/30 [==============================] - 0s 4ms/step - loss: 0.2133 - accuracy: 0.9207 - val_loss: 0.0266 - val_accuracy: 0.9968\n",
      "Epoch 67/1000\n",
      "25/30 [========================>.....] - ETA: 0s - loss: 0.2126 - accuracy: 0.9272\n",
      "Epoch 67: saving model to model/keypoint_classifier\\keypoint_classifier.hdf5\n",
      "30/30 [==============================] - 0s 4ms/step - loss: 0.2102 - accuracy: 0.9278 - val_loss: 0.0253 - val_accuracy: 0.9968\n",
      "Epoch 68/1000\n",
      " 1/30 [>.............................] - ETA: 0s - loss: 0.1995 - accuracy: 0.9219\n",
      "Epoch 68: saving model to model/keypoint_classifier\\keypoint_classifier.hdf5\n",
      "30/30 [==============================] - 0s 3ms/step - loss: 0.2189 - accuracy: 0.9183 - val_loss: 0.0251 - val_accuracy: 0.9968\n",
      "Epoch 69/1000\n",
      " 1/30 [>.............................] - ETA: 0s - loss: 0.1781 - accuracy: 0.9141\n",
      "Epoch 69: saving model to model/keypoint_classifier\\keypoint_classifier.hdf5\n",
      "30/30 [==============================] - 0s 4ms/step - loss: 0.2232 - accuracy: 0.9167 - val_loss: 0.0254 - val_accuracy: 0.9968\n",
      "Epoch 70/1000\n",
      "30/30 [==============================] - ETA: 0s - loss: 0.2053 - accuracy: 0.9257\n",
      "Epoch 70: saving model to model/keypoint_classifier\\keypoint_classifier.hdf5\n",
      "30/30 [==============================] - 0s 4ms/step - loss: 0.2053 - accuracy: 0.9257 - val_loss: 0.0254 - val_accuracy: 0.9968\n",
      "Epoch 71/1000\n",
      " 1/30 [>.............................] - ETA: 0s - loss: 0.1491 - accuracy: 0.9453\n",
      "Epoch 71: saving model to model/keypoint_classifier\\keypoint_classifier.hdf5\n",
      "30/30 [==============================] - 0s 3ms/step - loss: 0.2181 - accuracy: 0.9233 - val_loss: 0.0275 - val_accuracy: 0.9960\n",
      "Epoch 72/1000\n",
      " 1/30 [>.............................] - ETA: 0s - loss: 0.2021 - accuracy: 0.9062\n",
      "Epoch 72: saving model to model/keypoint_classifier\\keypoint_classifier.hdf5\n",
      "30/30 [==============================] - 0s 3ms/step - loss: 0.2187 - accuracy: 0.9236 - val_loss: 0.0256 - val_accuracy: 0.9968\n",
      "Epoch 73/1000\n",
      " 1/30 [>.............................] - ETA: 0s - loss: 0.2999 - accuracy: 0.8906\n",
      "Epoch 73: saving model to model/keypoint_classifier\\keypoint_classifier.hdf5\n",
      "30/30 [==============================] - 0s 3ms/step - loss: 0.2124 - accuracy: 0.9281 - val_loss: 0.0258 - val_accuracy: 0.9968\n",
      "Epoch 74/1000\n",
      " 1/30 [>.............................] - ETA: 0s - loss: 0.2417 - accuracy: 0.9141\n",
      "Epoch 74: saving model to model/keypoint_classifier\\keypoint_classifier.hdf5\n",
      "30/30 [==============================] - 0s 3ms/step - loss: 0.2083 - accuracy: 0.9260 - val_loss: 0.0239 - val_accuracy: 0.9968\n",
      "Epoch 75/1000\n",
      "30/30 [==============================] - ETA: 0s - loss: 0.2124 - accuracy: 0.9244\n",
      "Epoch 75: saving model to model/keypoint_classifier\\keypoint_classifier.hdf5\n",
      "30/30 [==============================] - 0s 4ms/step - loss: 0.2124 - accuracy: 0.9244 - val_loss: 0.0228 - val_accuracy: 0.9968\n",
      "Epoch 76/1000\n",
      " 1/30 [>.............................] - ETA: 0s - loss: 0.1794 - accuracy: 0.9297\n",
      "Epoch 76: saving model to model/keypoint_classifier\\keypoint_classifier.hdf5\n",
      "30/30 [==============================] - 0s 4ms/step - loss: 0.2036 - accuracy: 0.9268 - val_loss: 0.0227 - val_accuracy: 0.9960\n",
      "Epoch 77/1000\n",
      " 1/30 [>.............................] - ETA: 0s - loss: 0.2120 - accuracy: 0.8984\n",
      "Epoch 77: saving model to model/keypoint_classifier\\keypoint_classifier.hdf5\n",
      "30/30 [==============================] - 0s 3ms/step - loss: 0.2183 - accuracy: 0.9231 - val_loss: 0.0234 - val_accuracy: 0.9968\n",
      "Epoch 78/1000\n",
      "30/30 [==============================] - ETA: 0s - loss: 0.2053 - accuracy: 0.9239\n",
      "Epoch 78: saving model to model/keypoint_classifier\\keypoint_classifier.hdf5\n",
      "30/30 [==============================] - 0s 4ms/step - loss: 0.2053 - accuracy: 0.9239 - val_loss: 0.0222 - val_accuracy: 0.9968\n",
      "Epoch 79/1000\n",
      "19/30 [==================>...........] - ETA: 0s - loss: 0.2234 - accuracy: 0.9211\n",
      "Epoch 79: saving model to model/keypoint_classifier\\keypoint_classifier.hdf5\n",
      "30/30 [==============================] - 0s 6ms/step - loss: 0.2179 - accuracy: 0.9247 - val_loss: 0.0223 - val_accuracy: 0.9968\n",
      "Epoch 80/1000\n",
      "28/30 [===========================>..] - ETA: 0s - loss: 0.2130 - accuracy: 0.9224\n",
      "Epoch 80: saving model to model/keypoint_classifier\\keypoint_classifier.hdf5\n",
      "30/30 [==============================] - 0s 4ms/step - loss: 0.2110 - accuracy: 0.9236 - val_loss: 0.0218 - val_accuracy: 0.9968\n",
      "Epoch 81/1000\n",
      "24/30 [=======================>......] - ETA: 0s - loss: 0.2055 - accuracy: 0.9277\n",
      "Epoch 81: saving model to model/keypoint_classifier\\keypoint_classifier.hdf5\n",
      "30/30 [==============================] - 0s 4ms/step - loss: 0.2100 - accuracy: 0.9284 - val_loss: 0.0220 - val_accuracy: 0.9960\n",
      "Epoch 82/1000\n",
      "29/30 [============================>.] - ETA: 0s - loss: 0.2101 - accuracy: 0.9240\n",
      "Epoch 82: saving model to model/keypoint_classifier\\keypoint_classifier.hdf5\n",
      "30/30 [==============================] - 0s 4ms/step - loss: 0.2082 - accuracy: 0.9252 - val_loss: 0.0223 - val_accuracy: 0.9968\n",
      "Epoch 83/1000\n",
      " 1/30 [>.............................] - ETA: 0s - loss: 0.1756 - accuracy: 0.9688\n",
      "Epoch 83: saving model to model/keypoint_classifier\\keypoint_classifier.hdf5\n",
      "30/30 [==============================] - 0s 3ms/step - loss: 0.2028 - accuracy: 0.9257 - val_loss: 0.0223 - val_accuracy: 0.9968\n",
      "Epoch 84/1000\n",
      "28/30 [===========================>..] - ETA: 0s - loss: 0.2052 - accuracy: 0.9235\n",
      "Epoch 84: saving model to model/keypoint_classifier\\keypoint_classifier.hdf5\n",
      "30/30 [==============================] - 0s 4ms/step - loss: 0.2050 - accuracy: 0.9231 - val_loss: 0.0216 - val_accuracy: 0.9968\n",
      "Epoch 85/1000\n",
      " 1/30 [>.............................] - ETA: 0s - loss: 0.2344 - accuracy: 0.9141\n",
      "Epoch 85: saving model to model/keypoint_classifier\\keypoint_classifier.hdf5\n",
      "30/30 [==============================] - 0s 3ms/step - loss: 0.2052 - accuracy: 0.9231 - val_loss: 0.0230 - val_accuracy: 0.9960\n",
      "Epoch 86/1000\n",
      "30/30 [==============================] - ETA: 0s - loss: 0.2122 - accuracy: 0.9278\n",
      "Epoch 86: saving model to model/keypoint_classifier\\keypoint_classifier.hdf5\n",
      "30/30 [==============================] - 0s 4ms/step - loss: 0.2122 - accuracy: 0.9278 - val_loss: 0.0228 - val_accuracy: 0.9960\n",
      "Epoch 87/1000\n",
      " 1/30 [>.............................] - ETA: 0s - loss: 0.1878 - accuracy: 0.9219\n",
      "Epoch 87: saving model to model/keypoint_classifier\\keypoint_classifier.hdf5\n",
      "30/30 [==============================] - 0s 4ms/step - loss: 0.1859 - accuracy: 0.9310 - val_loss: 0.0197 - val_accuracy: 0.9968\n",
      "Epoch 88/1000\n",
      "23/30 [======================>.......] - ETA: 0s - loss: 0.2050 - accuracy: 0.9256\n",
      "Epoch 88: saving model to model/keypoint_classifier\\keypoint_classifier.hdf5\n",
      "30/30 [==============================] - 0s 4ms/step - loss: 0.2036 - accuracy: 0.9281 - val_loss: 0.0214 - val_accuracy: 0.9968\n",
      "Epoch 89/1000\n",
      " 1/30 [>.............................] - ETA: 0s - loss: 0.3146 - accuracy: 0.8828\n",
      "Epoch 89: saving model to model/keypoint_classifier\\keypoint_classifier.hdf5\n",
      "30/30 [==============================] - 0s 4ms/step - loss: 0.2157 - accuracy: 0.9249 - val_loss: 0.0213 - val_accuracy: 0.9960\n",
      "Epoch 90/1000\n",
      "23/30 [======================>.......] - ETA: 0s - loss: 0.2014 - accuracy: 0.9229\n",
      "Epoch 90: saving model to model/keypoint_classifier\\keypoint_classifier.hdf5\n",
      "30/30 [==============================] - 0s 4ms/step - loss: 0.1988 - accuracy: 0.9239 - val_loss: 0.0212 - val_accuracy: 0.9960\n",
      "Epoch 91/1000\n",
      "18/30 [=================>............] - ETA: 0s - loss: 0.2194 - accuracy: 0.9167\n",
      "Epoch 91: saving model to model/keypoint_classifier\\keypoint_classifier.hdf5\n",
      "30/30 [==============================] - 0s 5ms/step - loss: 0.2086 - accuracy: 0.9186 - val_loss: 0.0211 - val_accuracy: 0.9960\n",
      "Epoch 92/1000\n",
      "28/30 [===========================>..] - ETA: 0s - loss: 0.1878 - accuracy: 0.9339\n",
      "Epoch 92: saving model to model/keypoint_classifier\\keypoint_classifier.hdf5\n",
      "30/30 [==============================] - 0s 4ms/step - loss: 0.1907 - accuracy: 0.9313 - val_loss: 0.0209 - val_accuracy: 0.9968\n",
      "Epoch 93/1000\n",
      "30/30 [==============================] - ETA: 0s - loss: 0.1944 - accuracy: 0.9273\n",
      "Epoch 93: saving model to model/keypoint_classifier\\keypoint_classifier.hdf5\n",
      "30/30 [==============================] - 0s 4ms/step - loss: 0.1944 - accuracy: 0.9273 - val_loss: 0.0214 - val_accuracy: 0.9968\n",
      "Epoch 94/1000\n",
      "24/30 [=======================>......] - ETA: 0s - loss: 0.2004 - accuracy: 0.9339\n",
      "Epoch 94: saving model to model/keypoint_classifier\\keypoint_classifier.hdf5\n",
      "30/30 [==============================] - 0s 4ms/step - loss: 0.1990 - accuracy: 0.9344 - val_loss: 0.0218 - val_accuracy: 0.9968\n",
      "Epoch 95/1000\n",
      "29/30 [============================>.] - ETA: 0s - loss: 0.1934 - accuracy: 0.9343\n",
      "Epoch 95: saving model to model/keypoint_classifier\\keypoint_classifier.hdf5\n",
      "30/30 [==============================] - 0s 4ms/step - loss: 0.1923 - accuracy: 0.9355 - val_loss: 0.0203 - val_accuracy: 0.9960\n",
      "Epoch 96/1000\n",
      "26/30 [=========================>....] - ETA: 0s - loss: 0.1833 - accuracy: 0.9360\n",
      "Epoch 96: saving model to model/keypoint_classifier\\keypoint_classifier.hdf5\n",
      "30/30 [==============================] - 0s 4ms/step - loss: 0.1864 - accuracy: 0.9334 - val_loss: 0.0198 - val_accuracy: 0.9968\n",
      "Epoch 97/1000\n",
      "23/30 [======================>.......] - ETA: 0s - loss: 0.1988 - accuracy: 0.9229\n",
      "Epoch 97: saving model to model/keypoint_classifier\\keypoint_classifier.hdf5\n",
      "30/30 [==============================] - 0s 4ms/step - loss: 0.1971 - accuracy: 0.9241 - val_loss: 0.0187 - val_accuracy: 0.9968\n",
      "Epoch 98/1000\n",
      "29/30 [============================>.] - ETA: 0s - loss: 0.1840 - accuracy: 0.9316\n",
      "Epoch 98: saving model to model/keypoint_classifier\\keypoint_classifier.hdf5\n",
      "30/30 [==============================] - 0s 4ms/step - loss: 0.1824 - accuracy: 0.9323 - val_loss: 0.0206 - val_accuracy: 0.9968\n",
      "Epoch 99/1000\n",
      "30/30 [==============================] - ETA: 0s - loss: 0.1962 - accuracy: 0.9321\n",
      "Epoch 99: saving model to model/keypoint_classifier\\keypoint_classifier.hdf5\n",
      "30/30 [==============================] - 0s 4ms/step - loss: 0.1962 - accuracy: 0.9321 - val_loss: 0.0204 - val_accuracy: 0.9960\n",
      "Epoch 100/1000\n",
      "24/30 [=======================>......] - ETA: 0s - loss: 0.2112 - accuracy: 0.9242\n",
      "Epoch 100: saving model to model/keypoint_classifier\\keypoint_classifier.hdf5\n",
      "30/30 [==============================] - 0s 5ms/step - loss: 0.2067 - accuracy: 0.9244 - val_loss: 0.0206 - val_accuracy: 0.9968\n",
      "Epoch 101/1000\n",
      "27/30 [==========================>...] - ETA: 0s - loss: 0.2035 - accuracy: 0.9245\n",
      "Epoch 101: saving model to model/keypoint_classifier\\keypoint_classifier.hdf5\n",
      "30/30 [==============================] - 0s 5ms/step - loss: 0.2014 - accuracy: 0.9257 - val_loss: 0.0206 - val_accuracy: 0.9960\n",
      "Epoch 102/1000\n",
      "23/30 [======================>.......] - ETA: 0s - loss: 0.1857 - accuracy: 0.9297\n",
      "Epoch 102: saving model to model/keypoint_classifier\\keypoint_classifier.hdf5\n",
      "30/30 [==============================] - 0s 5ms/step - loss: 0.1820 - accuracy: 0.9313 - val_loss: 0.0187 - val_accuracy: 0.9968\n",
      "Epoch 103/1000\n",
      "19/30 [==================>...........] - ETA: 0s - loss: 0.2109 - accuracy: 0.9243\n",
      "Epoch 103: saving model to model/keypoint_classifier\\keypoint_classifier.hdf5\n",
      "30/30 [==============================] - 0s 5ms/step - loss: 0.2018 - accuracy: 0.9260 - val_loss: 0.0180 - val_accuracy: 0.9968\n",
      "Epoch 104/1000\n",
      "26/30 [=========================>....] - ETA: 0s - loss: 0.1896 - accuracy: 0.9318\n",
      "Epoch 104: saving model to model/keypoint_classifier\\keypoint_classifier.hdf5\n",
      "30/30 [==============================] - 0s 4ms/step - loss: 0.1888 - accuracy: 0.9313 - val_loss: 0.0185 - val_accuracy: 0.9968\n",
      "Epoch 105/1000\n",
      "24/30 [=======================>......] - ETA: 0s - loss: 0.1915 - accuracy: 0.9281\n",
      "Epoch 105: saving model to model/keypoint_classifier\\keypoint_classifier.hdf5\n",
      "30/30 [==============================] - 0s 5ms/step - loss: 0.1949 - accuracy: 0.9257 - val_loss: 0.0199 - val_accuracy: 0.9960\n",
      "Epoch 106/1000\n",
      "25/30 [========================>.....] - ETA: 0s - loss: 0.1797 - accuracy: 0.9312\n",
      "Epoch 106: saving model to model/keypoint_classifier\\keypoint_classifier.hdf5\n",
      "30/30 [==============================] - 0s 5ms/step - loss: 0.1857 - accuracy: 0.9307 - val_loss: 0.0194 - val_accuracy: 0.9968\n",
      "Epoch 107/1000\n",
      "24/30 [=======================>......] - ETA: 0s - loss: 0.1819 - accuracy: 0.9365\n",
      "Epoch 107: saving model to model/keypoint_classifier\\keypoint_classifier.hdf5\n",
      "30/30 [==============================] - 0s 4ms/step - loss: 0.1870 - accuracy: 0.9331 - val_loss: 0.0202 - val_accuracy: 0.9960\n",
      "Epoch 108/1000\n",
      "26/30 [=========================>....] - ETA: 0s - loss: 0.1798 - accuracy: 0.9351\n",
      "Epoch 108: saving model to model/keypoint_classifier\\keypoint_classifier.hdf5\n",
      "30/30 [==============================] - 0s 4ms/step - loss: 0.1857 - accuracy: 0.9331 - val_loss: 0.0193 - val_accuracy: 0.9952\n",
      "Epoch 109/1000\n",
      "26/30 [=========================>....] - ETA: 0s - loss: 0.1856 - accuracy: 0.9354\n",
      "Epoch 109: saving model to model/keypoint_classifier\\keypoint_classifier.hdf5\n",
      "30/30 [==============================] - 0s 4ms/step - loss: 0.1895 - accuracy: 0.9355 - val_loss: 0.0193 - val_accuracy: 0.9960\n",
      "Epoch 110/1000\n",
      "21/30 [====================>.........] - ETA: 0s - loss: 0.1836 - accuracy: 0.9334\n",
      "Epoch 110: saving model to model/keypoint_classifier\\keypoint_classifier.hdf5\n",
      "30/30 [==============================] - 0s 5ms/step - loss: 0.1839 - accuracy: 0.9326 - val_loss: 0.0181 - val_accuracy: 0.9968\n",
      "Epoch 111/1000\n",
      "28/30 [===========================>..] - ETA: 0s - loss: 0.1733 - accuracy: 0.9358\n",
      "Epoch 111: saving model to model/keypoint_classifier\\keypoint_classifier.hdf5\n",
      "30/30 [==============================] - 0s 4ms/step - loss: 0.1734 - accuracy: 0.9352 - val_loss: 0.0174 - val_accuracy: 0.9968\n",
      "Epoch 112/1000\n",
      "27/30 [==========================>...] - ETA: 0s - loss: 0.1869 - accuracy: 0.9320\n",
      "Epoch 112: saving model to model/keypoint_classifier\\keypoint_classifier.hdf5\n",
      "30/30 [==============================] - 0s 4ms/step - loss: 0.1863 - accuracy: 0.9326 - val_loss: 0.0188 - val_accuracy: 0.9968\n",
      "Epoch 113/1000\n",
      "23/30 [======================>.......] - ETA: 0s - loss: 0.1780 - accuracy: 0.9324\n",
      "Epoch 113: saving model to model/keypoint_classifier\\keypoint_classifier.hdf5\n",
      "30/30 [==============================] - 0s 4ms/step - loss: 0.1779 - accuracy: 0.9334 - val_loss: 0.0189 - val_accuracy: 0.9968\n",
      "Epoch 114/1000\n",
      "27/30 [==========================>...] - ETA: 0s - loss: 0.1805 - accuracy: 0.9314\n",
      "Epoch 114: saving model to model/keypoint_classifier\\keypoint_classifier.hdf5\n",
      "30/30 [==============================] - 0s 4ms/step - loss: 0.1769 - accuracy: 0.9334 - val_loss: 0.0198 - val_accuracy: 0.9968\n",
      "Epoch 115/1000\n",
      " 1/30 [>.............................] - ETA: 0s - loss: 0.1082 - accuracy: 0.9609\n",
      "Epoch 115: saving model to model/keypoint_classifier\\keypoint_classifier.hdf5\n",
      "30/30 [==============================] - 0s 3ms/step - loss: 0.1901 - accuracy: 0.9313 - val_loss: 0.0193 - val_accuracy: 0.9968\n",
      "Epoch 116/1000\n",
      "30/30 [==============================] - ETA: 0s - loss: 0.1821 - accuracy: 0.9352\n",
      "Epoch 116: saving model to model/keypoint_classifier\\keypoint_classifier.hdf5\n",
      "30/30 [==============================] - 0s 4ms/step - loss: 0.1821 - accuracy: 0.9352 - val_loss: 0.0196 - val_accuracy: 0.9960\n",
      "Epoch 117/1000\n",
      "30/30 [==============================] - ETA: 0s - loss: 0.1826 - accuracy: 0.9334\n",
      "Epoch 117: saving model to model/keypoint_classifier\\keypoint_classifier.hdf5\n",
      "30/30 [==============================] - 0s 4ms/step - loss: 0.1826 - accuracy: 0.9334 - val_loss: 0.0193 - val_accuracy: 0.9960\n",
      "Epoch 118/1000\n",
      "28/30 [===========================>..] - ETA: 0s - loss: 0.1796 - accuracy: 0.9330\n",
      "Epoch 118: saving model to model/keypoint_classifier\\keypoint_classifier.hdf5\n",
      "30/30 [==============================] - 0s 4ms/step - loss: 0.1829 - accuracy: 0.9321 - val_loss: 0.0174 - val_accuracy: 0.9968\n",
      "Epoch 119/1000\n",
      " 1/30 [>.............................] - ETA: 0s - loss: 0.1919 - accuracy: 0.9375\n",
      "Epoch 119: saving model to model/keypoint_classifier\\keypoint_classifier.hdf5\n",
      "30/30 [==============================] - 0s 3ms/step - loss: 0.1845 - accuracy: 0.9350 - val_loss: 0.0191 - val_accuracy: 0.9960\n",
      "Epoch 120/1000\n",
      "20/30 [===================>..........] - ETA: 0s - loss: 0.1752 - accuracy: 0.9340\n",
      "Epoch 120: saving model to model/keypoint_classifier\\keypoint_classifier.hdf5\n",
      "30/30 [==============================] - 0s 5ms/step - loss: 0.1741 - accuracy: 0.9358 - val_loss: 0.0184 - val_accuracy: 0.9968\n",
      "Epoch 121/1000\n",
      "22/30 [=====================>........] - ETA: 0s - loss: 0.1647 - accuracy: 0.9400\n",
      "Epoch 121: saving model to model/keypoint_classifier\\keypoint_classifier.hdf5\n",
      "30/30 [==============================] - 0s 4ms/step - loss: 0.1673 - accuracy: 0.9395 - val_loss: 0.0181 - val_accuracy: 0.9968\n",
      "Epoch 122/1000\n",
      "27/30 [==========================>...] - ETA: 0s - loss: 0.1840 - accuracy: 0.9329\n",
      "Epoch 122: saving model to model/keypoint_classifier\\keypoint_classifier.hdf5\n",
      "30/30 [==============================] - 0s 4ms/step - loss: 0.1819 - accuracy: 0.9339 - val_loss: 0.0172 - val_accuracy: 0.9968\n",
      "Epoch 123/1000\n",
      "29/30 [============================>.] - ETA: 0s - loss: 0.1906 - accuracy: 0.9305\n",
      "Epoch 123: saving model to model/keypoint_classifier\\keypoint_classifier.hdf5\n",
      "30/30 [==============================] - 0s 4ms/step - loss: 0.1911 - accuracy: 0.9299 - val_loss: 0.0199 - val_accuracy: 0.9960\n",
      "Epoch 124/1000\n",
      "26/30 [=========================>....] - ETA: 0s - loss: 0.1583 - accuracy: 0.9459\n",
      "Epoch 124: saving model to model/keypoint_classifier\\keypoint_classifier.hdf5\n",
      "30/30 [==============================] - 0s 4ms/step - loss: 0.1609 - accuracy: 0.9437 - val_loss: 0.0176 - val_accuracy: 0.9968\n",
      "Epoch 125/1000\n",
      "27/30 [==========================>...] - ETA: 0s - loss: 0.1750 - accuracy: 0.9346\n",
      "Epoch 125: saving model to model/keypoint_classifier\\keypoint_classifier.hdf5\n",
      "30/30 [==============================] - 0s 4ms/step - loss: 0.1807 - accuracy: 0.9334 - val_loss: 0.0171 - val_accuracy: 0.9968\n",
      "Epoch 126/1000\n",
      "29/30 [============================>.] - ETA: 0s - loss: 0.1754 - accuracy: 0.9356\n",
      "Epoch 126: saving model to model/keypoint_classifier\\keypoint_classifier.hdf5\n",
      "30/30 [==============================] - 0s 4ms/step - loss: 0.1745 - accuracy: 0.9360 - val_loss: 0.0164 - val_accuracy: 0.9976\n",
      "Epoch 127/1000\n",
      "29/30 [============================>.] - ETA: 0s - loss: 0.1912 - accuracy: 0.9313\n",
      "Epoch 127: saving model to model/keypoint_classifier\\keypoint_classifier.hdf5\n",
      "30/30 [==============================] - 0s 4ms/step - loss: 0.1924 - accuracy: 0.9305 - val_loss: 0.0183 - val_accuracy: 0.9968\n",
      "Epoch 128/1000\n",
      "29/30 [============================>.] - ETA: 0s - loss: 0.1859 - accuracy: 0.9353\n",
      "Epoch 128: saving model to model/keypoint_classifier\\keypoint_classifier.hdf5\n",
      "30/30 [==============================] - 0s 4ms/step - loss: 0.1850 - accuracy: 0.9358 - val_loss: 0.0187 - val_accuracy: 0.9968\n",
      "Epoch 129/1000\n",
      " 1/30 [>.............................] - ETA: 0s - loss: 0.2409 - accuracy: 0.9062\n",
      "Epoch 129: saving model to model/keypoint_classifier\\keypoint_classifier.hdf5\n",
      "30/30 [==============================] - 0s 3ms/step - loss: 0.1875 - accuracy: 0.9366 - val_loss: 0.0195 - val_accuracy: 0.9968\n",
      "Epoch 130/1000\n",
      " 1/30 [>.............................] - ETA: 0s - loss: 0.2024 - accuracy: 0.9141\n",
      "Epoch 130: saving model to model/keypoint_classifier\\keypoint_classifier.hdf5\n",
      "30/30 [==============================] - 0s 3ms/step - loss: 0.1801 - accuracy: 0.9366 - val_loss: 0.0178 - val_accuracy: 0.9968\n",
      "Epoch 131/1000\n",
      "28/30 [===========================>..] - ETA: 0s - loss: 0.1904 - accuracy: 0.9308\n",
      "Epoch 131: saving model to model/keypoint_classifier\\keypoint_classifier.hdf5\n",
      "30/30 [==============================] - 0s 4ms/step - loss: 0.1876 - accuracy: 0.9318 - val_loss: 0.0182 - val_accuracy: 0.9960\n",
      "Epoch 132/1000\n",
      " 1/30 [>.............................] - ETA: 0s - loss: 0.1382 - accuracy: 0.9531\n",
      "Epoch 132: saving model to model/keypoint_classifier\\keypoint_classifier.hdf5\n",
      "30/30 [==============================] - 0s 3ms/step - loss: 0.1758 - accuracy: 0.9368 - val_loss: 0.0165 - val_accuracy: 0.9968\n",
      "Epoch 133/1000\n",
      " 1/30 [>.............................] - ETA: 0s - loss: 0.1481 - accuracy: 0.9375\n",
      "Epoch 133: saving model to model/keypoint_classifier\\keypoint_classifier.hdf5\n",
      "30/30 [==============================] - 0s 3ms/step - loss: 0.1894 - accuracy: 0.9350 - val_loss: 0.0184 - val_accuracy: 0.9968\n",
      "Epoch 134/1000\n",
      " 1/30 [>.............................] - ETA: 0s - loss: 0.2193 - accuracy: 0.9141\n",
      "Epoch 134: saving model to model/keypoint_classifier\\keypoint_classifier.hdf5\n",
      "30/30 [==============================] - 0s 3ms/step - loss: 0.1693 - accuracy: 0.9395 - val_loss: 0.0174 - val_accuracy: 0.9960\n",
      "Epoch 135/1000\n",
      " 1/30 [>.............................] - ETA: 0s - loss: 0.1052 - accuracy: 0.9453\n",
      "Epoch 135: saving model to model/keypoint_classifier\\keypoint_classifier.hdf5\n",
      "30/30 [==============================] - 0s 3ms/step - loss: 0.1638 - accuracy: 0.9434 - val_loss: 0.0173 - val_accuracy: 0.9968\n",
      "Epoch 136/1000\n",
      "30/30 [==============================] - ETA: 0s - loss: 0.1638 - accuracy: 0.9421\n",
      "Epoch 136: saving model to model/keypoint_classifier\\keypoint_classifier.hdf5\n",
      "30/30 [==============================] - 0s 4ms/step - loss: 0.1638 - accuracy: 0.9421 - val_loss: 0.0173 - val_accuracy: 0.9968\n",
      "Epoch 137/1000\n",
      " 1/30 [>.............................] - ETA: 0s - loss: 0.2895 - accuracy: 0.9141\n",
      "Epoch 137: saving model to model/keypoint_classifier\\keypoint_classifier.hdf5\n",
      "30/30 [==============================] - 0s 3ms/step - loss: 0.1717 - accuracy: 0.9339 - val_loss: 0.0168 - val_accuracy: 0.9960\n",
      "Epoch 138/1000\n",
      " 1/30 [>.............................] - ETA: 0s - loss: 0.1502 - accuracy: 0.9453\n",
      "Epoch 138: saving model to model/keypoint_classifier\\keypoint_classifier.hdf5\n",
      "30/30 [==============================] - 0s 3ms/step - loss: 0.1752 - accuracy: 0.9376 - val_loss: 0.0177 - val_accuracy: 0.9960\n",
      "Epoch 139/1000\n",
      "27/30 [==========================>...] - ETA: 0s - loss: 0.1680 - accuracy: 0.9450\n",
      "Epoch 139: saving model to model/keypoint_classifier\\keypoint_classifier.hdf5\n",
      "30/30 [==============================] - 0s 4ms/step - loss: 0.1759 - accuracy: 0.9418 - val_loss: 0.0168 - val_accuracy: 0.9976\n",
      "Epoch 140/1000\n",
      " 1/30 [>.............................] - ETA: 0s - loss: 0.1188 - accuracy: 0.9531\n",
      "Epoch 140: saving model to model/keypoint_classifier\\keypoint_classifier.hdf5\n",
      "30/30 [==============================] - 0s 3ms/step - loss: 0.1759 - accuracy: 0.9379 - val_loss: 0.0173 - val_accuracy: 0.9968\n",
      "Epoch 141/1000\n",
      " 1/30 [>.............................] - ETA: 0s - loss: 0.2040 - accuracy: 0.9453\n",
      "Epoch 141: saving model to model/keypoint_classifier\\keypoint_classifier.hdf5\n",
      "30/30 [==============================] - 0s 3ms/step - loss: 0.1834 - accuracy: 0.9337 - val_loss: 0.0179 - val_accuracy: 0.9968\n",
      "Epoch 142/1000\n",
      " 1/30 [>.............................] - ETA: 0s - loss: 0.1206 - accuracy: 0.9609\n",
      "Epoch 142: saving model to model/keypoint_classifier\\keypoint_classifier.hdf5\n",
      "30/30 [==============================] - 0s 3ms/step - loss: 0.1858 - accuracy: 0.9368 - val_loss: 0.0170 - val_accuracy: 0.9968\n",
      "Epoch 143/1000\n",
      " 1/30 [>.............................] - ETA: 0s - loss: 0.2258 - accuracy: 0.9453\n",
      "Epoch 143: saving model to model/keypoint_classifier\\keypoint_classifier.hdf5\n",
      "30/30 [==============================] - 0s 3ms/step - loss: 0.1630 - accuracy: 0.9453 - val_loss: 0.0179 - val_accuracy: 0.9960\n",
      "Epoch 144/1000\n",
      "28/30 [===========================>..] - ETA: 0s - loss: 0.1751 - accuracy: 0.9344\n",
      "Epoch 144: saving model to model/keypoint_classifier\\keypoint_classifier.hdf5\n",
      "30/30 [==============================] - 0s 4ms/step - loss: 0.1770 - accuracy: 0.9352 - val_loss: 0.0163 - val_accuracy: 0.9968\n",
      "Epoch 145/1000\n",
      " 1/30 [>.............................] - ETA: 0s - loss: 0.1901 - accuracy: 0.9297\n",
      "Epoch 145: saving model to model/keypoint_classifier\\keypoint_classifier.hdf5\n",
      "30/30 [==============================] - 0s 3ms/step - loss: 0.1753 - accuracy: 0.9366 - val_loss: 0.0167 - val_accuracy: 0.9968\n",
      "Epoch 146/1000\n",
      "28/30 [===========================>..] - ETA: 0s - loss: 0.1697 - accuracy: 0.9411\n",
      "Epoch 146: saving model to model/keypoint_classifier\\keypoint_classifier.hdf5\n",
      "30/30 [==============================] - 0s 4ms/step - loss: 0.1700 - accuracy: 0.9400 - val_loss: 0.0166 - val_accuracy: 0.9968\n",
      "Epoch 147/1000\n",
      " 1/30 [>.............................] - ETA: 0s - loss: 0.1879 - accuracy: 0.9141\n",
      "Epoch 147: saving model to model/keypoint_classifier\\keypoint_classifier.hdf5\n",
      "30/30 [==============================] - 0s 3ms/step - loss: 0.1544 - accuracy: 0.9485 - val_loss: 0.0162 - val_accuracy: 0.9968\n",
      "Epoch 148/1000\n",
      " 1/30 [>.............................] - ETA: 0s - loss: 0.1534 - accuracy: 0.9688\n",
      "Epoch 148: saving model to model/keypoint_classifier\\keypoint_classifier.hdf5\n",
      "30/30 [==============================] - 0s 3ms/step - loss: 0.1810 - accuracy: 0.9337 - val_loss: 0.0168 - val_accuracy: 0.9968\n",
      "Epoch 149/1000\n",
      "18/30 [=================>............] - ETA: 0s - loss: 0.1772 - accuracy: 0.9384\n",
      "Epoch 149: saving model to model/keypoint_classifier\\keypoint_classifier.hdf5\n",
      "30/30 [==============================] - 0s 4ms/step - loss: 0.1763 - accuracy: 0.9347 - val_loss: 0.0170 - val_accuracy: 0.9976\n",
      "Epoch 150/1000\n",
      " 1/30 [>.............................] - ETA: 0s - loss: 0.1855 - accuracy: 0.9219\n",
      "Epoch 150: saving model to model/keypoint_classifier\\keypoint_classifier.hdf5\n",
      "30/30 [==============================] - 0s 3ms/step - loss: 0.1777 - accuracy: 0.9363 - val_loss: 0.0175 - val_accuracy: 0.9960\n",
      "Epoch 151/1000\n",
      " 1/30 [>.............................] - ETA: 0s - loss: 0.1901 - accuracy: 0.9062\n",
      "Epoch 151: saving model to model/keypoint_classifier\\keypoint_classifier.hdf5\n",
      "30/30 [==============================] - 0s 3ms/step - loss: 0.1778 - accuracy: 0.9405 - val_loss: 0.0185 - val_accuracy: 0.9960\n",
      "Epoch 152/1000\n",
      " 1/30 [>.............................] - ETA: 0s - loss: 0.1638 - accuracy: 0.9609\n",
      "Epoch 152: saving model to model/keypoint_classifier\\keypoint_classifier.hdf5\n",
      "30/30 [==============================] - 0s 3ms/step - loss: 0.1732 - accuracy: 0.9358 - val_loss: 0.0158 - val_accuracy: 0.9968\n",
      "Epoch 153/1000\n",
      " 1/30 [>.............................] - ETA: 0s - loss: 0.2731 - accuracy: 0.9141\n",
      "Epoch 153: saving model to model/keypoint_classifier\\keypoint_classifier.hdf5\n",
      "30/30 [==============================] - 0s 3ms/step - loss: 0.1732 - accuracy: 0.9405 - val_loss: 0.0188 - val_accuracy: 0.9960\n",
      "Epoch 154/1000\n",
      "29/30 [============================>.] - ETA: 0s - loss: 0.1731 - accuracy: 0.9351\n",
      "Epoch 154: saving model to model/keypoint_classifier\\keypoint_classifier.hdf5\n",
      "30/30 [==============================] - 0s 4ms/step - loss: 0.1733 - accuracy: 0.9352 - val_loss: 0.0171 - val_accuracy: 0.9968\n",
      "Epoch 155/1000\n",
      " 1/30 [>.............................] - ETA: 0s - loss: 0.2166 - accuracy: 0.9297\n",
      "Epoch 155: saving model to model/keypoint_classifier\\keypoint_classifier.hdf5\n",
      "30/30 [==============================] - 0s 3ms/step - loss: 0.1541 - accuracy: 0.9463 - val_loss: 0.0194 - val_accuracy: 0.9960\n",
      "Epoch 156/1000\n",
      " 1/30 [>.............................] - ETA: 0s - loss: 0.1827 - accuracy: 0.9453\n",
      "Epoch 156: saving model to model/keypoint_classifier\\keypoint_classifier.hdf5\n",
      "30/30 [==============================] - 0s 3ms/step - loss: 0.1517 - accuracy: 0.9477 - val_loss: 0.0185 - val_accuracy: 0.9960\n",
      "Epoch 157/1000\n",
      " 1/30 [>.............................] - ETA: 0s - loss: 0.2938 - accuracy: 0.8906\n",
      "Epoch 157: saving model to model/keypoint_classifier\\keypoint_classifier.hdf5\n",
      "30/30 [==============================] - 0s 3ms/step - loss: 0.1642 - accuracy: 0.9379 - val_loss: 0.0162 - val_accuracy: 0.9960\n",
      "Epoch 158/1000\n",
      " 1/30 [>.............................] - ETA: 0s - loss: 0.1529 - accuracy: 0.9531\n",
      "Epoch 158: saving model to model/keypoint_classifier\\keypoint_classifier.hdf5\n",
      "30/30 [==============================] - 0s 3ms/step - loss: 0.1666 - accuracy: 0.9429 - val_loss: 0.0181 - val_accuracy: 0.9960\n",
      "Epoch 159/1000\n",
      "22/30 [=====================>........] - ETA: 0s - loss: 0.1568 - accuracy: 0.9439\n",
      "Epoch 159: saving model to model/keypoint_classifier\\keypoint_classifier.hdf5\n",
      "30/30 [==============================] - 0s 4ms/step - loss: 0.1558 - accuracy: 0.9437 - val_loss: 0.0169 - val_accuracy: 0.9968\n",
      "Epoch 160/1000\n",
      " 1/30 [>.............................] - ETA: 0s - loss: 0.1338 - accuracy: 0.9453\n",
      "Epoch 160: saving model to model/keypoint_classifier\\keypoint_classifier.hdf5\n",
      "30/30 [==============================] - 0s 3ms/step - loss: 0.1584 - accuracy: 0.9469 - val_loss: 0.0181 - val_accuracy: 0.9960\n",
      "Epoch 161/1000\n",
      " 1/30 [>.............................] - ETA: 0s - loss: 0.1444 - accuracy: 0.9375\n",
      "Epoch 161: saving model to model/keypoint_classifier\\keypoint_classifier.hdf5\n",
      "30/30 [==============================] - 0s 3ms/step - loss: 0.1721 - accuracy: 0.9455 - val_loss: 0.0181 - val_accuracy: 0.9960\n",
      "Epoch 162/1000\n",
      " 1/30 [>.............................] - ETA: 0s - loss: 0.3305 - accuracy: 0.9453\n",
      "Epoch 162: saving model to model/keypoint_classifier\\keypoint_classifier.hdf5\n",
      "30/30 [==============================] - 0s 3ms/step - loss: 0.1713 - accuracy: 0.9392 - val_loss: 0.0166 - val_accuracy: 0.9968\n",
      "Epoch 163/1000\n",
      "27/30 [==========================>...] - ETA: 0s - loss: 0.1718 - accuracy: 0.9375\n",
      "Epoch 163: saving model to model/keypoint_classifier\\keypoint_classifier.hdf5\n",
      "30/30 [==============================] - 0s 4ms/step - loss: 0.1729 - accuracy: 0.9371 - val_loss: 0.0162 - val_accuracy: 0.9968\n",
      "Epoch 164/1000\n",
      " 1/30 [>.............................] - ETA: 0s - loss: 0.1039 - accuracy: 0.9609\n",
      "Epoch 164: saving model to model/keypoint_classifier\\keypoint_classifier.hdf5\n",
      "30/30 [==============================] - 0s 3ms/step - loss: 0.1586 - accuracy: 0.9445 - val_loss: 0.0182 - val_accuracy: 0.9968\n",
      "Epoch 165/1000\n",
      " 1/30 [>.............................] - ETA: 0s - loss: 0.1873 - accuracy: 0.9375\n",
      "Epoch 165: saving model to model/keypoint_classifier\\keypoint_classifier.hdf5\n",
      "30/30 [==============================] - 0s 4ms/step - loss: 0.1737 - accuracy: 0.9384 - val_loss: 0.0162 - val_accuracy: 0.9968\n",
      "Epoch 166/1000\n",
      " 1/30 [>.............................] - ETA: 0s - loss: 0.1431 - accuracy: 0.9531\n",
      "Epoch 166: saving model to model/keypoint_classifier\\keypoint_classifier.hdf5\n",
      "30/30 [==============================] - 0s 3ms/step - loss: 0.1639 - accuracy: 0.9426 - val_loss: 0.0166 - val_accuracy: 0.9968\n",
      "Epoch 167/1000\n",
      " 1/30 [>.............................] - ETA: 0s - loss: 0.1395 - accuracy: 0.9375\n",
      "Epoch 167: saving model to model/keypoint_classifier\\keypoint_classifier.hdf5\n",
      "30/30 [==============================] - 0s 3ms/step - loss: 0.1643 - accuracy: 0.9434 - val_loss: 0.0170 - val_accuracy: 0.9968\n",
      "Epoch 168/1000\n",
      "26/30 [=========================>....] - ETA: 0s - loss: 0.1573 - accuracy: 0.9471\n",
      "Epoch 168: saving model to model/keypoint_classifier\\keypoint_classifier.hdf5\n",
      "30/30 [==============================] - 0s 6ms/step - loss: 0.1558 - accuracy: 0.9477 - val_loss: 0.0152 - val_accuracy: 0.9976\n",
      "Epoch 169/1000\n",
      " 1/30 [>.............................] - ETA: 0s - loss: 0.1747 - accuracy: 0.9219\n",
      "Epoch 169: saving model to model/keypoint_classifier\\keypoint_classifier.hdf5\n",
      "30/30 [==============================] - 0s 3ms/step - loss: 0.1558 - accuracy: 0.9426 - val_loss: 0.0172 - val_accuracy: 0.9968\n",
      "Epoch 170/1000\n",
      " 1/30 [>.............................] - ETA: 0s - loss: 0.2304 - accuracy: 0.9375\n",
      "Epoch 170: saving model to model/keypoint_classifier\\keypoint_classifier.hdf5\n",
      "30/30 [==============================] - 0s 3ms/step - loss: 0.1651 - accuracy: 0.9429 - val_loss: 0.0181 - val_accuracy: 0.9960\n",
      "Epoch 171/1000\n",
      " 1/30 [>.............................] - ETA: 0s - loss: 0.0847 - accuracy: 0.9688\n",
      "Epoch 171: saving model to model/keypoint_classifier\\keypoint_classifier.hdf5\n",
      "30/30 [==============================] - 0s 3ms/step - loss: 0.1634 - accuracy: 0.9413 - val_loss: 0.0183 - val_accuracy: 0.9960\n",
      "Epoch 172/1000\n",
      "28/30 [===========================>..] - ETA: 0s - loss: 0.1550 - accuracy: 0.9487\n",
      "Epoch 172: saving model to model/keypoint_classifier\\keypoint_classifier.hdf5\n",
      "30/30 [==============================] - 0s 4ms/step - loss: 0.1528 - accuracy: 0.9492 - val_loss: 0.0177 - val_accuracy: 0.9960\n",
      "Epoch 173/1000\n",
      " 1/30 [>.............................] - ETA: 0s - loss: 0.1301 - accuracy: 0.9453\n",
      "Epoch 173: saving model to model/keypoint_classifier\\keypoint_classifier.hdf5\n",
      "30/30 [==============================] - 0s 3ms/step - loss: 0.1610 - accuracy: 0.9437 - val_loss: 0.0174 - val_accuracy: 0.9968\n",
      "Epoch 174/1000\n",
      " 1/30 [>.............................] - ETA: 0s - loss: 0.1180 - accuracy: 0.9609\n",
      "Epoch 174: saving model to model/keypoint_classifier\\keypoint_classifier.hdf5\n",
      "30/30 [==============================] - 0s 3ms/step - loss: 0.1692 - accuracy: 0.9384 - val_loss: 0.0172 - val_accuracy: 0.9960\n",
      "Epoch 175/1000\n",
      " 1/30 [>.............................] - ETA: 0s - loss: 0.1798 - accuracy: 0.9609\n",
      "Epoch 175: saving model to model/keypoint_classifier\\keypoint_classifier.hdf5\n",
      "30/30 [==============================] - 0s 3ms/step - loss: 0.1580 - accuracy: 0.9490 - val_loss: 0.0171 - val_accuracy: 0.9968\n",
      "Epoch 176/1000\n",
      " 1/30 [>.............................] - ETA: 0s - loss: 0.1822 - accuracy: 0.9141\n",
      "Epoch 176: saving model to model/keypoint_classifier\\keypoint_classifier.hdf5\n",
      "30/30 [==============================] - 0s 3ms/step - loss: 0.1553 - accuracy: 0.9461 - val_loss: 0.0163 - val_accuracy: 0.9968\n",
      "Epoch 177/1000\n",
      "26/30 [=========================>....] - ETA: 0s - loss: 0.1562 - accuracy: 0.9480\n",
      "Epoch 177: saving model to model/keypoint_classifier\\keypoint_classifier.hdf5\n",
      "30/30 [==============================] - 0s 5ms/step - loss: 0.1557 - accuracy: 0.9485 - val_loss: 0.0162 - val_accuracy: 0.9968\n",
      "Epoch 178/1000\n",
      " 1/30 [>.............................] - ETA: 0s - loss: 0.1048 - accuracy: 0.9609\n",
      "Epoch 178: saving model to model/keypoint_classifier\\keypoint_classifier.hdf5\n",
      "30/30 [==============================] - 0s 3ms/step - loss: 0.1462 - accuracy: 0.9537 - val_loss: 0.0171 - val_accuracy: 0.9968\n",
      "Epoch 179/1000\n",
      " 1/30 [>.............................] - ETA: 0s - loss: 0.1645 - accuracy: 0.9453\n",
      "Epoch 179: saving model to model/keypoint_classifier\\keypoint_classifier.hdf5\n",
      "30/30 [==============================] - 0s 3ms/step - loss: 0.1625 - accuracy: 0.9416 - val_loss: 0.0171 - val_accuracy: 0.9968\n",
      "Epoch 180/1000\n",
      " 1/30 [>.............................] - ETA: 0s - loss: 0.1413 - accuracy: 0.9375\n",
      "Epoch 180: saving model to model/keypoint_classifier\\keypoint_classifier.hdf5\n",
      "30/30 [==============================] - 0s 3ms/step - loss: 0.1526 - accuracy: 0.9492 - val_loss: 0.0174 - val_accuracy: 0.9968\n",
      "Epoch 181/1000\n",
      " 1/30 [>.............................] - ETA: 0s - loss: 0.1271 - accuracy: 0.9375\n",
      "Epoch 181: saving model to model/keypoint_classifier\\keypoint_classifier.hdf5\n",
      "30/30 [==============================] - 0s 3ms/step - loss: 0.1644 - accuracy: 0.9387 - val_loss: 0.0180 - val_accuracy: 0.9968\n",
      "Epoch 182/1000\n",
      " 1/30 [>.............................] - ETA: 0s - loss: 0.1628 - accuracy: 0.9531\n",
      "Epoch 182: saving model to model/keypoint_classifier\\keypoint_classifier.hdf5\n",
      "30/30 [==============================] - 0s 3ms/step - loss: 0.1517 - accuracy: 0.9495 - val_loss: 0.0169 - val_accuracy: 0.9968\n",
      "Epoch 183/1000\n",
      " 1/30 [>.............................] - ETA: 0s - loss: 0.2807 - accuracy: 0.9375\n",
      "Epoch 183: saving model to model/keypoint_classifier\\keypoint_classifier.hdf5\n",
      "30/30 [==============================] - 0s 3ms/step - loss: 0.1732 - accuracy: 0.9424 - val_loss: 0.0166 - val_accuracy: 0.9968\n",
      "Epoch 184/1000\n",
      "28/30 [===========================>..] - ETA: 0s - loss: 0.1630 - accuracy: 0.9417\n",
      "Epoch 184: saving model to model/keypoint_classifier\\keypoint_classifier.hdf5\n",
      "30/30 [==============================] - 0s 4ms/step - loss: 0.1595 - accuracy: 0.9424 - val_loss: 0.0160 - val_accuracy: 0.9976\n",
      "Epoch 185/1000\n",
      " 1/30 [>.............................] - ETA: 0s - loss: 0.2538 - accuracy: 0.9375\n",
      "Epoch 185: saving model to model/keypoint_classifier\\keypoint_classifier.hdf5\n",
      "30/30 [==============================] - 0s 3ms/step - loss: 0.1597 - accuracy: 0.9416 - val_loss: 0.0165 - val_accuracy: 0.9976\n",
      "Epoch 186/1000\n",
      " 1/30 [>.............................] - ETA: 0s - loss: 0.1027 - accuracy: 0.9609\n",
      "Epoch 186: saving model to model/keypoint_classifier\\keypoint_classifier.hdf5\n",
      "30/30 [==============================] - 0s 3ms/step - loss: 0.1617 - accuracy: 0.9381 - val_loss: 0.0170 - val_accuracy: 0.9968\n",
      "Epoch 187/1000\n",
      "16/30 [===============>..............] - ETA: 0s - loss: 0.1528 - accuracy: 0.9478\n",
      "Epoch 187: saving model to model/keypoint_classifier\\keypoint_classifier.hdf5\n",
      "30/30 [==============================] - 0s 5ms/step - loss: 0.1680 - accuracy: 0.9434 - val_loss: 0.0162 - val_accuracy: 0.9968\n",
      "Epoch 188/1000\n",
      " 1/30 [>.............................] - ETA: 0s - loss: 0.0757 - accuracy: 0.9688\n",
      "Epoch 188: saving model to model/keypoint_classifier\\keypoint_classifier.hdf5\n",
      "30/30 [==============================] - 0s 4ms/step - loss: 0.1591 - accuracy: 0.9466 - val_loss: 0.0161 - val_accuracy: 0.9968\n",
      "Epoch 188: early stopping\n"
     ]
    },
    {
     "data": {
      "text/plain": [
       "<keras.callbacks.History at 0x23740a5c7f0>"
      ]
     },
     "execution_count": 13,
     "metadata": {},
     "output_type": "execute_result"
    }
   ],
   "source": [
    "model.fit(\n",
    "    X_train,\n",
    "    y_train,\n",
    "    epochs=1000,\n",
    "    batch_size=128,\n",
    "    validation_data=(X_test, y_test),\n",
    "    callbacks=[cp_callback, es_callback]\n",
    ")"
   ]
  },
  {
   "cell_type": "code",
   "execution_count": 14,
   "metadata": {
    "colab": {
     "base_uri": "https://localhost:8080/"
    },
    "id": "pxvb2Y299hE3",
    "outputId": "59eb3185-2e37-4b9e-bc9d-ab1b8ac29b7f"
   },
   "outputs": [
    {
     "name": "stdout",
     "output_type": "stream",
     "text": [
      "10/10 [==============================] - 0s 1ms/step - loss: 0.0161 - accuracy: 0.9968\n"
     ]
    }
   ],
   "source": [
    "# Model evaluation\n",
    "val_loss, val_acc = model.evaluate(X_test, y_test, batch_size=128)"
   ]
  },
  {
   "cell_type": "code",
   "execution_count": 15,
   "metadata": {
    "id": "RBkmDeUW9hE4"
   },
   "outputs": [],
   "source": [
    "# Loading the saved model\n",
    "model = tf.keras.models.load_model(model_save_path)"
   ]
  },
  {
   "cell_type": "code",
   "execution_count": 16,
   "metadata": {
    "colab": {
     "base_uri": "https://localhost:8080/"
    },
    "id": "tFz9Tb0I9hE4",
    "outputId": "1c3b3528-54ae-4ee2-ab04-77429211cbef"
   },
   "outputs": [
    {
     "name": "stdout",
     "output_type": "stream",
     "text": [
      "1/1 [==============================] - 0s 73ms/step\n",
      "[2.2237846e-07 5.9220379e-11 2.4795468e-10 9.9999976e-01 1.4185205e-27]\n",
      "3\n"
     ]
    }
   ],
   "source": [
    "# Inference test\n",
    "predict_result = model.predict(np.array([X_test[0]]))\n",
    "print(np.squeeze(predict_result))\n",
    "print(np.argmax(np.squeeze(predict_result)))"
   ]
  },
  {
   "cell_type": "markdown",
   "metadata": {
    "id": "S3U4yNWx9hE4"
   },
   "source": [
    "# Confusion matrix"
   ]
  },
  {
   "cell_type": "code",
   "execution_count": 17,
   "metadata": {
    "colab": {
     "base_uri": "https://localhost:8080/",
     "height": 582
    },
    "id": "AP1V6SCk9hE5",
    "outputId": "08e41a80-7a4a-4619-8125-ecc371368d19"
   },
   "outputs": [
    {
     "name": "stdout",
     "output_type": "stream",
     "text": [
      "40/40 [==============================] - 0s 888us/step\n"
     ]
    },
    {
     "data": {
      "image/png": "[encoded data removed]",
      "text/plain": [
       "<Figure size 700x600 with 2 Axes>"
      ]
     },
     "metadata": {},
     "output_type": "display_data"
    },
    {
     "name": "stdout",
     "output_type": "stream",
     "text": [
      "Classification Report\n",
      "              precision    recall  f1-score   support\n",
      "\n",
      "           0       1.00      0.99      1.00       240\n",
      "           1       1.00      1.00      1.00       213\n",
      "           2       1.00      1.00      1.00       402\n",
      "           3       1.00      1.00      1.00       211\n",
      "           4       1.00      0.99      0.99       195\n",
      "\n",
      "    accuracy                           1.00      1261\n",
      "   macro avg       1.00      1.00      1.00      1261\n",
      "weighted avg       1.00      1.00      1.00      1261\n",
      "\n"
     ]
    }
   ],
   "source": [
    "import pandas as pd\n",
    "import seaborn as sns\n",
    "import matplotlib.pyplot as plt\n",
    "from sklearn.metrics import confusion_matrix, classification_report\n",
    "\n",
    "def print_confusion_matrix(y_true, y_pred, report=True):\n",
    "    labels = sorted(list(set(y_true)))\n",
    "    cmx_data = confusion_matrix(y_true, y_pred, labels=labels)\n",
    "    \n",
    "    df_cmx = pd.DataFrame(cmx_data, index=labels, columns=labels)\n",
    " \n",
    "    fig, ax = plt.subplots(figsize=(7, 6))\n",
    "    sns.heatmap(df_cmx, annot=True, fmt='g' ,square=False)\n",
    "    ax.set_ylim(len(set(y_true)), 0)\n",
    "    plt.show()\n",
    "    \n",
    "    if report:\n",
    "        print('Classification Report')\n",
    "        print(classification_report(y_test, y_pred))\n",
    "\n",
    "Y_pred = model.predict(X_test)\n",
    "y_pred = np.argmax(Y_pred, axis=1)\n",
    "\n",
    "print_confusion_matrix(y_test, y_pred)"
   ]
  },
  {
   "cell_type": "markdown",
   "metadata": {
    "id": "FNP6aqzc9hE5"
   },
   "source": [
    "# Convert to model for Tensorflow-Lite"
   ]
  },
  {
   "cell_type": "code",
   "execution_count": 19,
   "metadata": {
    "id": "ODjnYyld9hE6"
   },
   "outputs": [],
   "source": [
    "# Save as a model dedicated to inference\n",
    "model.save(model_save_path, include_optimizer=False)"
   ]
  },
  {
   "cell_type": "code",
   "execution_count": 20,
   "metadata": {
    "colab": {
     "base_uri": "https://localhost:8080/"
    },
    "id": "zRfuK8Y59hE6",
    "outputId": "a4ca585c-b5d5-4244-8291-8674063209bb"
   },
   "outputs": [
    {
     "name": "stdout",
     "output_type": "stream",
     "text": [
      "INFO:tensorflow:Assets written to: C:\\Users\\zayed\\AppData\\Local\\Temp\\tmpvnvxd042\\assets\n"
     ]
    },
    {
     "data": {
      "text/plain": [
       "6532"
      ]
     },
     "execution_count": 20,
     "metadata": {},
     "output_type": "execute_result"
    }
   ],
   "source": [
    "# Transform model (quantization)\n",
    "\n",
    "converter = tf.lite.TFLiteConverter.from_keras_model(model)\n",
    "converter.optimizations = [tf.lite.Optimize.DEFAULT]\n",
    "tflite_quantized_model = converter.convert()\n",
    "\n",
    "open(tflite_save_path, 'wb').write(tflite_quantized_model)"
   ]
  },
  {
   "cell_type": "code",
   "execution_count": 23,
   "metadata": {},
   "outputs": [],
   "source": [
    "import tensorflowjs as tfjs\n",
    "tfjs.converters.save_keras_model(model,tfjs_save_path)"
   ]
  },
  {
   "cell_type": "markdown",
   "metadata": {
    "id": "CHBPBXdx9hE6"
   },
   "source": [
    "# Inference test"
   ]
  },
  {
   "cell_type": "code",
   "execution_count": 24,
   "metadata": {
    "id": "mGAzLocO9hE7"
   },
   "outputs": [],
   "source": [
    "interpreter = tf.lite.Interpreter(model_path=tflite_save_path)\n",
    "interpreter.allocate_tensors()"
   ]
  },
  {
   "cell_type": "code",
   "execution_count": 25,
   "metadata": {
    "id": "oQuDK8YS9hE7"
   },
   "outputs": [],
   "source": [
    "# Get I / O tensor\n",
    "input_details = interpreter.get_input_details()\n",
    "output_details = interpreter.get_output_details()"
   ]
  },
  {
   "cell_type": "code",
   "execution_count": 26,
   "metadata": {
    "id": "2_ixAf_l9hE7"
   },
   "outputs": [],
   "source": [
    "interpreter.set_tensor(input_details[0]['index'], np.array([X_test[0]]))"
   ]
  },
  {
   "cell_type": "code",
   "execution_count": 27,
   "metadata": {
    "colab": {
     "base_uri": "https://localhost:8080/"
    },
    "id": "s4FoAnuc9hE7",
    "outputId": "91f18257-8d8b-4ef3-c558-e9b5f94fabbf",
    "scrolled": true
   },
   "outputs": [
    {
     "name": "stdout",
     "output_type": "stream",
     "text": [
      "CPU times: total: 0 ns\n",
      "Wall time: 2 ms\n"
     ]
    }
   ],
   "source": [
    "%%time\n",
    "# Inference implementation\n",
    "interpreter.invoke()\n",
    "tflite_results = interpreter.get_tensor(output_details[0]['index'])"
   ]
  },
  {
   "cell_type": "code",
   "execution_count": 28,
   "metadata": {
    "colab": {
     "base_uri": "https://localhost:8080/"
    },
    "id": "vONjp19J9hE8",
    "outputId": "77205e24-fd00-42c4-f7b6-e06e527c2cba"
   },
   "outputs": [
    {
     "name": "stdout",
     "output_type": "stream",
     "text": [
      "[2.2237910e-07 5.9220497e-11 2.4795513e-10 9.9999976e-01 1.4185258e-27]\n",
      "3\n"
     ]
    }
   ],
   "source": [
    "print(np.squeeze(tflite_results))\n",
    "print(np.argmax(np.squeeze(tflite_results)))"
   ]
  },
  {
   "cell_type": "code",
   "execution_count": null,
   "metadata": {},
   "outputs": [],
   "source": []
  }
 ],
 "metadata": {
  "accelerator": "GPU",
  "colab": {
   "collapsed_sections": [],
   "name": "keypoint_classification_EN.ipynb",
   "provenance": [],
   "toc_visible": true
  },
  "kernelspec": {
   "display_name": "ml_model-SgZ6L1Dr",
   "language": "python",
   "name": "python3"
  },
  "language_info": {
   "codemirror_mode": {
    "name": "ipython",
    "version": 3
   },
   "file_extension": ".py",
   "mimetype": "text/x-python",
   "name": "python",
   "nbconvert_exporter": "python",
   "pygments_lexer": "ipython3",
   "version": "3.8.8"
  },
  "vscode": {
   "interpreter": {
    "hash": "06b411450415a152117e4ed8c52f590bfd96099dcaf65a65bcc5140dc08626dd"
   }
  }
 },
 "nbformat": 4,
 "nbformat_minor": 1
}
